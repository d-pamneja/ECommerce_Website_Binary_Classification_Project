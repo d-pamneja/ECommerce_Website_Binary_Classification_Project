{
 "cells": [
  {
   "cell_type": "code",
   "execution_count": 1,
   "id": "2f76c1f3",
   "metadata": {
    "execution": {
     "iopub.execute_input": "2023-03-27T18:34:44.777308Z",
     "iopub.status.busy": "2023-03-27T18:34:44.776843Z",
     "iopub.status.idle": "2023-03-27T18:34:46.336083Z",
     "shell.execute_reply": "2023-03-27T18:34:46.334493Z"
    },
    "papermill": {
     "duration": 1.58382,
     "end_time": "2023-03-27T18:34:46.339769",
     "exception": false,
     "start_time": "2023-03-27T18:34:44.755949",
     "status": "completed"
    },
    "tags": []
   },
   "outputs": [
    {
     "name": "stdout",
     "output_type": "stream",
     "text": [
      "/kaggle/input/e-commerce-shoppers-behaviour-understanding/test_data_v2.csv\n",
      "/kaggle/input/e-commerce-shoppers-behaviour-understanding/train_data_v2.csv\n",
      "/kaggle/input/e-commerce-shoppers-behaviour-understanding/sample.csv\n"
     ]
    }
   ],
   "source": [
    "# This Python 3 environment comes with many helpful analytics libraries installed\n",
    "# It is defined by the kaggle/python Docker image: https://github.com/kaggle/docker-python\n",
    "# For example, here's several helpful packages to load\n",
    "\n",
    "import numpy as np # linear algebra\n",
    "import pandas as pd # data processing, CSV file I/O (e.g. pd.read_csv)\n",
    "\n",
    "from sklearn.preprocessing import StandardScaler\n",
    "from sklearn.preprocessing import LabelEncoder\n",
    "from sklearn.preprocessing import OneHotEncoder\n",
    "from sklearn.impute import SimpleImputer\n",
    "from sklearn.decomposition import PCA\n",
    "from sklearn.metrics import f1_score\n",
    "\n",
    "\n",
    "# Input data files are available in the read-only \"../input/\" directory\n",
    "# For example, running this (by clicking run or pressing Shift+Enter) will list all files under the input directory\n",
    "\n",
    "import os\n",
    "for dirname, _, filenames in os.walk('/kaggle/input'):\n",
    "    for filename in filenames:\n",
    "        print(os.path.join(dirname, filename))\n",
    "\n",
    "# You can write up to 20GB to the current directory (/kaggle/working/) that gets preserved as output when you create a version using \"Save & Run All\" \n",
    "# You can also write temporary files to /kaggle/temp/, but they won't be saved outside of the current session"
   ]
  },
  {
   "cell_type": "markdown",
   "id": "978009b3",
   "metadata": {
    "papermill": {
     "duration": 0.018171,
     "end_time": "2023-03-27T18:34:46.375546",
     "exception": false,
     "start_time": "2023-03-27T18:34:46.357375",
     "status": "completed"
    },
    "tags": []
   },
   "source": [
    "# Importing the Dependencies & Data Preprocessing"
   ]
  },
  {
   "cell_type": "markdown",
   "id": "942f2ef1",
   "metadata": {
    "papermill": {
     "duration": 0.016912,
     "end_time": "2023-03-27T18:34:46.409231",
     "exception": false,
     "start_time": "2023-03-27T18:34:46.392319",
     "status": "completed"
    },
    "tags": []
   },
   "source": [
    "## Basic & Data PreProcessing Packages"
   ]
  },
  {
   "cell_type": "code",
   "execution_count": 2,
   "id": "825355eb",
   "metadata": {
    "execution": {
     "iopub.execute_input": "2023-03-27T18:34:46.447706Z",
     "iopub.status.busy": "2023-03-27T18:34:46.447319Z",
     "iopub.status.idle": "2023-03-27T18:34:46.461407Z",
     "shell.execute_reply": "2023-03-27T18:34:46.460076Z"
    },
    "papermill": {
     "duration": 0.037378,
     "end_time": "2023-03-27T18:34:46.464484",
     "exception": false,
     "start_time": "2023-03-27T18:34:46.427106",
     "status": "completed"
    },
    "tags": []
   },
   "outputs": [],
   "source": [
    "import numpy as np # linear algebra\n",
    "import pandas as pd # data processing, CSV file I/O (e.g. pd.read_csv)\n",
    "from sklearn.impute import SimpleImputer\n",
    "from sklearn.preprocessing import StandardScaler\n",
    "from sklearn.preprocessing import LabelEncoder\n",
    "from sklearn.pipeline import make_pipeline"
   ]
  },
  {
   "cell_type": "markdown",
   "id": "f1e142f2",
   "metadata": {
    "papermill": {
     "duration": 0.01731,
     "end_time": "2023-03-27T18:34:46.498867",
     "exception": false,
     "start_time": "2023-03-27T18:34:46.481557",
     "status": "completed"
    },
    "tags": []
   },
   "source": [
    "## Loading the Dataset"
   ]
  },
  {
   "cell_type": "code",
   "execution_count": 3,
   "id": "ce3a07c6",
   "metadata": {
    "execution": {
     "iopub.execute_input": "2023-03-27T18:34:46.534963Z",
     "iopub.status.busy": "2023-03-27T18:34:46.534554Z",
     "iopub.status.idle": "2023-03-27T18:34:46.624575Z",
     "shell.execute_reply": "2023-03-27T18:34:46.623304Z"
    },
    "papermill": {
     "duration": 0.112347,
     "end_time": "2023-03-27T18:34:46.628105",
     "exception": false,
     "start_time": "2023-03-27T18:34:46.515758",
     "status": "completed"
    },
    "tags": []
   },
   "outputs": [],
   "source": [
    "train = pd.read_csv('/kaggle/input/e-commerce-shoppers-behaviour-understanding/train_data_v2.csv')\n"
   ]
  },
  {
   "cell_type": "code",
   "execution_count": 4,
   "id": "ee21a2e6",
   "metadata": {
    "execution": {
     "iopub.execute_input": "2023-03-27T18:34:46.664186Z",
     "iopub.status.busy": "2023-03-27T18:34:46.663497Z",
     "iopub.status.idle": "2023-03-27T18:34:46.716223Z",
     "shell.execute_reply": "2023-03-27T18:34:46.714759Z"
    },
    "papermill": {
     "duration": 0.073865,
     "end_time": "2023-03-27T18:34:46.718981",
     "exception": false,
     "start_time": "2023-03-27T18:34:46.645116",
     "status": "completed"
    },
    "tags": []
   },
   "outputs": [
    {
     "data": {
      "text/html": [
       "<div>\n",
       "<style scoped>\n",
       "    .dataframe tbody tr th:only-of-type {\n",
       "        vertical-align: middle;\n",
       "    }\n",
       "\n",
       "    .dataframe tbody tr th {\n",
       "        vertical-align: top;\n",
       "    }\n",
       "\n",
       "    .dataframe thead th {\n",
       "        text-align: right;\n",
       "    }\n",
       "</style>\n",
       "<table border=\"1\" class=\"dataframe\">\n",
       "  <thead>\n",
       "    <tr style=\"text-align: right;\">\n",
       "      <th></th>\n",
       "      <th>HomePage</th>\n",
       "      <th>HomePage_Duration</th>\n",
       "      <th>LandingPage</th>\n",
       "      <th>LandingPage_Duration</th>\n",
       "      <th>ProductDescriptionPage</th>\n",
       "      <th>ProductDescriptionPage_Duration</th>\n",
       "      <th>GoogleMetric:Bounce Rates</th>\n",
       "      <th>GoogleMetric:Exit Rates</th>\n",
       "      <th>GoogleMetric:Page Values</th>\n",
       "      <th>SeasonalPurchase</th>\n",
       "      <th>...</th>\n",
       "      <th>SearchEngine</th>\n",
       "      <th>Zone</th>\n",
       "      <th>Type of Traffic</th>\n",
       "      <th>CustomerType</th>\n",
       "      <th>Gender</th>\n",
       "      <th>Cookies Setting</th>\n",
       "      <th>Education</th>\n",
       "      <th>Marital Status</th>\n",
       "      <th>WeekendPurchase</th>\n",
       "      <th>Made_Purchase</th>\n",
       "    </tr>\n",
       "  </thead>\n",
       "  <tbody>\n",
       "    <tr>\n",
       "      <th>0</th>\n",
       "      <td>0.0</td>\n",
       "      <td>0.0</td>\n",
       "      <td>0.0</td>\n",
       "      <td>0.0</td>\n",
       "      <td>1.0</td>\n",
       "      <td>0.000000</td>\n",
       "      <td>0.20</td>\n",
       "      <td>0.20</td>\n",
       "      <td>0.0</td>\n",
       "      <td>0.0</td>\n",
       "      <td>...</td>\n",
       "      <td>1.0</td>\n",
       "      <td>9.0</td>\n",
       "      <td>3.0</td>\n",
       "      <td>Returning_Visitor</td>\n",
       "      <td>Not Specified</td>\n",
       "      <td>Deny</td>\n",
       "      <td>Not Specified</td>\n",
       "      <td>Other</td>\n",
       "      <td>0.0</td>\n",
       "      <td>False</td>\n",
       "    </tr>\n",
       "    <tr>\n",
       "      <th>1</th>\n",
       "      <td>0.0</td>\n",
       "      <td>0.0</td>\n",
       "      <td>0.0</td>\n",
       "      <td>0.0</td>\n",
       "      <td>2.0</td>\n",
       "      <td>2.666667</td>\n",
       "      <td>0.05</td>\n",
       "      <td>0.14</td>\n",
       "      <td>0.0</td>\n",
       "      <td>0.0</td>\n",
       "      <td>...</td>\n",
       "      <td>2.0</td>\n",
       "      <td>2.0</td>\n",
       "      <td>4.0</td>\n",
       "      <td>Returning_Visitor</td>\n",
       "      <td>Female</td>\n",
       "      <td>Deny</td>\n",
       "      <td>Others</td>\n",
       "      <td>Married</td>\n",
       "      <td>0.0</td>\n",
       "      <td>False</td>\n",
       "    </tr>\n",
       "    <tr>\n",
       "      <th>2</th>\n",
       "      <td>0.0</td>\n",
       "      <td>0.0</td>\n",
       "      <td>0.0</td>\n",
       "      <td>0.0</td>\n",
       "      <td>10.0</td>\n",
       "      <td>627.500000</td>\n",
       "      <td>0.02</td>\n",
       "      <td>0.05</td>\n",
       "      <td>0.0</td>\n",
       "      <td>0.0</td>\n",
       "      <td>...</td>\n",
       "      <td>3.0</td>\n",
       "      <td>1.0</td>\n",
       "      <td>4.0</td>\n",
       "      <td>Returning_Visitor</td>\n",
       "      <td>Female</td>\n",
       "      <td>ALL</td>\n",
       "      <td>Others</td>\n",
       "      <td>Married</td>\n",
       "      <td>1.0</td>\n",
       "      <td>False</td>\n",
       "    </tr>\n",
       "    <tr>\n",
       "      <th>3</th>\n",
       "      <td>0.0</td>\n",
       "      <td>0.0</td>\n",
       "      <td>0.0</td>\n",
       "      <td>0.0</td>\n",
       "      <td>1.0</td>\n",
       "      <td>0.000000</td>\n",
       "      <td>0.20</td>\n",
       "      <td>0.20</td>\n",
       "      <td>0.0</td>\n",
       "      <td>0.4</td>\n",
       "      <td>...</td>\n",
       "      <td>4.0</td>\n",
       "      <td>3.0</td>\n",
       "      <td>3.0</td>\n",
       "      <td>Returning_Visitor</td>\n",
       "      <td>Male</td>\n",
       "      <td>ALL</td>\n",
       "      <td>Diploma</td>\n",
       "      <td>Single</td>\n",
       "      <td>0.0</td>\n",
       "      <td>False</td>\n",
       "    </tr>\n",
       "    <tr>\n",
       "      <th>4</th>\n",
       "      <td>1.0</td>\n",
       "      <td>0.0</td>\n",
       "      <td>0.0</td>\n",
       "      <td>0.0</td>\n",
       "      <td>0.0</td>\n",
       "      <td>0.000000</td>\n",
       "      <td>0.20</td>\n",
       "      <td>0.20</td>\n",
       "      <td>0.0</td>\n",
       "      <td>0.0</td>\n",
       "      <td>...</td>\n",
       "      <td>2.0</td>\n",
       "      <td>1.0</td>\n",
       "      <td>5.0</td>\n",
       "      <td>Returning_Visitor</td>\n",
       "      <td>Male</td>\n",
       "      <td>Deny</td>\n",
       "      <td>Diploma</td>\n",
       "      <td>Other</td>\n",
       "      <td>1.0</td>\n",
       "      <td>False</td>\n",
       "    </tr>\n",
       "  </tbody>\n",
       "</table>\n",
       "<p>5 rows × 22 columns</p>\n",
       "</div>"
      ],
      "text/plain": [
       "   HomePage  HomePage_Duration  LandingPage  LandingPage_Duration  \\\n",
       "0       0.0                0.0          0.0                   0.0   \n",
       "1       0.0                0.0          0.0                   0.0   \n",
       "2       0.0                0.0          0.0                   0.0   \n",
       "3       0.0                0.0          0.0                   0.0   \n",
       "4       1.0                0.0          0.0                   0.0   \n",
       "\n",
       "   ProductDescriptionPage  ProductDescriptionPage_Duration  \\\n",
       "0                     1.0                         0.000000   \n",
       "1                     2.0                         2.666667   \n",
       "2                    10.0                       627.500000   \n",
       "3                     1.0                         0.000000   \n",
       "4                     0.0                         0.000000   \n",
       "\n",
       "   GoogleMetric:Bounce Rates  GoogleMetric:Exit Rates  \\\n",
       "0                       0.20                     0.20   \n",
       "1                       0.05                     0.14   \n",
       "2                       0.02                     0.05   \n",
       "3                       0.20                     0.20   \n",
       "4                       0.20                     0.20   \n",
       "\n",
       "   GoogleMetric:Page Values  SeasonalPurchase  ... SearchEngine  Zone  \\\n",
       "0                       0.0               0.0  ...          1.0   9.0   \n",
       "1                       0.0               0.0  ...          2.0   2.0   \n",
       "2                       0.0               0.0  ...          3.0   1.0   \n",
       "3                       0.0               0.4  ...          4.0   3.0   \n",
       "4                       0.0               0.0  ...          2.0   1.0   \n",
       "\n",
       "   Type of Traffic       CustomerType         Gender Cookies Setting  \\\n",
       "0              3.0  Returning_Visitor  Not Specified            Deny   \n",
       "1              4.0  Returning_Visitor         Female            Deny   \n",
       "2              4.0  Returning_Visitor         Female             ALL   \n",
       "3              3.0  Returning_Visitor           Male             ALL   \n",
       "4              5.0  Returning_Visitor           Male            Deny   \n",
       "\n",
       "       Education Marital Status WeekendPurchase Made_Purchase  \n",
       "0  Not Specified          Other             0.0         False  \n",
       "1         Others        Married             0.0         False  \n",
       "2         Others        Married             1.0         False  \n",
       "3        Diploma         Single             0.0         False  \n",
       "4        Diploma          Other             1.0         False  \n",
       "\n",
       "[5 rows x 22 columns]"
      ]
     },
     "execution_count": 4,
     "metadata": {},
     "output_type": "execute_result"
    }
   ],
   "source": [
    "train.head()"
   ]
  },
  {
   "cell_type": "markdown",
   "id": "3cc0d7a7",
   "metadata": {
    "papermill": {
     "duration": 0.017725,
     "end_time": "2023-03-27T18:34:46.754070",
     "exception": false,
     "start_time": "2023-03-27T18:34:46.736345",
     "status": "completed"
    },
    "tags": []
   },
   "source": [
    "## Data Preprocessing"
   ]
  },
  {
   "cell_type": "markdown",
   "id": "bcc41131",
   "metadata": {
    "papermill": {
     "duration": 0.01685,
     "end_time": "2023-03-27T18:34:46.788190",
     "exception": false,
     "start_time": "2023-03-27T18:34:46.771340",
     "status": "completed"
    },
    "tags": []
   },
   "source": [
    "Here, we will first check that how many missing values are present in our training dataset."
   ]
  },
  {
   "cell_type": "code",
   "execution_count": 5,
   "id": "07a16ca6",
   "metadata": {
    "execution": {
     "iopub.execute_input": "2023-03-27T18:34:46.825496Z",
     "iopub.status.busy": "2023-03-27T18:34:46.824708Z",
     "iopub.status.idle": "2023-03-27T18:34:46.840606Z",
     "shell.execute_reply": "2023-03-27T18:34:46.839057Z"
    },
    "papermill": {
     "duration": 0.037796,
     "end_time": "2023-03-27T18:34:46.843544",
     "exception": false,
     "start_time": "2023-03-27T18:34:46.805748",
     "status": "completed"
    },
    "tags": []
   },
   "outputs": [
    {
     "data": {
      "text/plain": [
       "HomePage                           153\n",
       "HomePage_Duration                  150\n",
       "LandingPage                        153\n",
       "LandingPage_Duration               135\n",
       "ProductDescriptionPage             123\n",
       "ProductDescriptionPage_Duration    167\n",
       "GoogleMetric:Bounce Rates          151\n",
       "GoogleMetric:Exit Rates            129\n",
       "GoogleMetric:Page Values           132\n",
       "SeasonalPurchase                   150\n",
       "Month_SeasonalPurchase             144\n",
       "OS                                 134\n",
       "SearchEngine                       122\n",
       "Zone                               117\n",
       "Type of Traffic                    143\n",
       "CustomerType                       144\n",
       "Gender                             145\n",
       "Cookies Setting                    144\n",
       "Education                          136\n",
       "Marital Status                     130\n",
       "WeekendPurchase                    121\n",
       "Made_Purchase                        0\n",
       "dtype: int64"
      ]
     },
     "execution_count": 5,
     "metadata": {},
     "output_type": "execute_result"
    }
   ],
   "source": [
    "train.isnull().sum()"
   ]
  },
  {
   "cell_type": "markdown",
   "id": "504fd00b",
   "metadata": {
    "papermill": {
     "duration": 0.017087,
     "end_time": "2023-03-27T18:34:46.878676",
     "exception": false,
     "start_time": "2023-03-27T18:34:46.861589",
     "status": "completed"
    },
    "tags": []
   },
   "source": [
    "## Setting The Imputers\n",
    "Since not all the variables will have the same strategy for imputers. In this project, I am of the belief that the ideal strategy to deal with variables in terms of imputing missing values is as follows:"
   ]
  },
  {
   "cell_type": "markdown",
   "id": "a2a0f951",
   "metadata": {
    "papermill": {
     "duration": 0.017478,
     "end_time": "2023-03-27T18:34:46.913304",
     "exception": false,
     "start_time": "2023-03-27T18:34:46.895826",
     "status": "completed"
    },
    "tags": []
   },
   "source": [
    "**Imputing the constant value of Zero**\n",
    "\n",
    "The variables given below in this section are:\n",
    "* HomePage\n",
    "* HomePage_Duration\n",
    "* LandingPage\n",
    "* LandingPage_Duration\n",
    "* ProductDesriptionPage\n",
    "* ProductDescriptionPage_Duration\n",
    "* GoogleMetric-Bounce Rate\n",
    "* GoogleMetric-Exit Rate\n",
    "* GoogleMetric-Page Value\n",
    "* SeasonalPurchase\n",
    "\n",
    "The reason for the same is that it would be best to assume no values/zero values for these numerical variables."
   ]
  },
  {
   "cell_type": "markdown",
   "id": "c0be13d1",
   "metadata": {
    "papermill": {
     "duration": 0.016896,
     "end_time": "2023-03-27T18:34:46.947618",
     "exception": false,
     "start_time": "2023-03-27T18:34:46.930722",
     "status": "completed"
    },
    "tags": []
   },
   "source": [
    "**Imputing the Median Value**\n",
    "\n",
    "The variables given below in this section are:\n",
    "* OS\n",
    "* SearchEngine\n",
    "* Zone\n",
    "* Type of Traffic\n",
    "* WeekendPurchase\n",
    "\n",
    "I am of the belief that imputing zero would not be ideal for the same for these numerical variables, we could try it with median values"
   ]
  },
  {
   "cell_type": "markdown",
   "id": "cf4624f0",
   "metadata": {
    "papermill": {
     "duration": 0.017136,
     "end_time": "2023-03-27T18:34:46.982080",
     "exception": false,
     "start_time": "2023-03-27T18:34:46.964944",
     "status": "completed"
    },
    "tags": []
   },
   "source": [
    "**Imputing the Constant Value 'Not Specified'**\n",
    "\n",
    "The variables given below in this section are:\n",
    "* Month_SeasonalPurchase\n",
    "* Gender\n",
    "* Cookie Setting\n",
    "* Education\n",
    "* Marital Status\n",
    "* Customer Type\n",
    "\n",
    "I am of the belief that imputing the value \"Not Specified\" would be ideal for these categorical variables"
   ]
  },
  {
   "cell_type": "markdown",
   "id": "62f57ebe",
   "metadata": {
    "papermill": {
     "duration": 0.017391,
     "end_time": "2023-03-27T18:34:47.017313",
     "exception": false,
     "start_time": "2023-03-27T18:34:46.999922",
     "status": "completed"
    },
    "tags": []
   },
   "source": [
    "## Putting the Variables in List"
   ]
  },
  {
   "cell_type": "code",
   "execution_count": 6,
   "id": "6fae784d",
   "metadata": {
    "execution": {
     "iopub.execute_input": "2023-03-27T18:34:47.054407Z",
     "iopub.status.busy": "2023-03-27T18:34:47.053959Z",
     "iopub.status.idle": "2023-03-27T18:34:47.060329Z",
     "shell.execute_reply": "2023-03-27T18:34:47.058769Z"
    },
    "papermill": {
     "duration": 0.028208,
     "end_time": "2023-03-27T18:34:47.062949",
     "exception": false,
     "start_time": "2023-03-27T18:34:47.034741",
     "status": "completed"
    },
    "tags": []
   },
   "outputs": [],
   "source": [
    "imputer_constant_ns = SimpleImputer(missing_values=np.NaN, strategy='constant', fill_value='Not Specified')\n",
    "imputer_constant_zero = SimpleImputer(missing_values=np.NaN, strategy='constant', fill_value= 0.0 )\n",
    "imputer_median = SimpleImputer(missing_values=np.NaN, strategy='median')\n",
    "imputer_constant_other = SimpleImputer(missing_values=np.NaN, strategy='constant', fill_value='Other')"
   ]
  },
  {
   "cell_type": "code",
   "execution_count": 7,
   "id": "6f7e5eb9",
   "metadata": {
    "execution": {
     "iopub.execute_input": "2023-03-27T18:34:47.100586Z",
     "iopub.status.busy": "2023-03-27T18:34:47.100170Z",
     "iopub.status.idle": "2023-03-27T18:34:47.115617Z",
     "shell.execute_reply": "2023-03-27T18:34:47.114217Z"
    },
    "papermill": {
     "duration": 0.03811,
     "end_time": "2023-03-27T18:34:47.118497",
     "exception": false,
     "start_time": "2023-03-27T18:34:47.080387",
     "status": "completed"
    },
    "tags": []
   },
   "outputs": [],
   "source": [
    "\n",
    "train['HomePage'] = imputer_constant_zero.fit_transform(train['HomePage'].values.reshape(-1,1))[:,0]\n",
    "train['LandingPage'] = imputer_constant_zero.fit_transform(train['LandingPage'].values.reshape(-1,1))[:,0]\n",
    "train['ProductDescriptionPage'] = imputer_constant_zero.fit_transform(train['ProductDescriptionPage'].values.reshape(-1,1))[:,0]\n",
    "train['SeasonalPurchase'] = imputer_constant_zero.fit_transform(train['SeasonalPurchase'].values.reshape(-1,1))[:,0]"
   ]
  },
  {
   "cell_type": "code",
   "execution_count": 8,
   "id": "e77212a5",
   "metadata": {
    "execution": {
     "iopub.execute_input": "2023-03-27T18:34:47.156070Z",
     "iopub.status.busy": "2023-03-27T18:34:47.155360Z",
     "iopub.status.idle": "2023-03-27T18:34:47.168707Z",
     "shell.execute_reply": "2023-03-27T18:34:47.167467Z"
    },
    "papermill": {
     "duration": 0.035349,
     "end_time": "2023-03-27T18:34:47.171467",
     "exception": false,
     "start_time": "2023-03-27T18:34:47.136118",
     "status": "completed"
    },
    "tags": []
   },
   "outputs": [],
   "source": [
    "train['HomePage_Duration'] = imputer_constant_zero.fit_transform(train['HomePage_Duration'].values.reshape(-1,1))[:,0]\n",
    "train['LandingPage_Duration'] = imputer_constant_zero.fit_transform(train['LandingPage_Duration'].values.reshape(-1,1))[:,0]\n",
    "train['ProductDescriptionPage_Duration'] = imputer_constant_zero.fit_transform(train['ProductDescriptionPage_Duration'].values.reshape(-1,1))[:,0]\n",
    "train['GoogleMetric:Bounce Rates'] = imputer_constant_zero.fit_transform(train['GoogleMetric:Bounce Rates'].values.reshape(-1,1))[:,0]\n",
    "train['GoogleMetric:Exit Rates'] = imputer_constant_zero.fit_transform(train['GoogleMetric:Exit Rates'].values.reshape(-1,1))[:,0]\n",
    "train['GoogleMetric:Page Values'] = imputer_constant_zero.fit_transform(train['GoogleMetric:Page Values'].values.reshape(-1,1))[:,0]"
   ]
  },
  {
   "cell_type": "code",
   "execution_count": 9,
   "id": "569e11c9",
   "metadata": {
    "execution": {
     "iopub.execute_input": "2023-03-27T18:34:47.207918Z",
     "iopub.status.busy": "2023-03-27T18:34:47.207482Z",
     "iopub.status.idle": "2023-03-27T18:34:47.227497Z",
     "shell.execute_reply": "2023-03-27T18:34:47.226084Z"
    },
    "papermill": {
     "duration": 0.041668,
     "end_time": "2023-03-27T18:34:47.230483",
     "exception": false,
     "start_time": "2023-03-27T18:34:47.188815",
     "status": "completed"
    },
    "tags": []
   },
   "outputs": [],
   "source": [
    "train['OS'] = imputer_median.fit_transform(train['OS'].values.reshape(-1,1))[:,0]\n",
    "train['SearchEngine'] = imputer_median.fit_transform(train['SearchEngine'].values.reshape(-1,1))[:,0]\n",
    "train['Zone'] = imputer_median.fit_transform(train['Zone'].values.reshape(-1,1))[:,0]\n",
    "train['Type of Traffic'] = imputer_median.fit_transform(train['Type of Traffic'].values.reshape(-1,1))[:,0]\n",
    "train['WeekendPurchase'] = imputer_median.fit_transform(train['WeekendPurchase'].values.reshape(-1,1))[:,0]\n"
   ]
  },
  {
   "cell_type": "code",
   "execution_count": 10,
   "id": "4d9f6e31",
   "metadata": {
    "execution": {
     "iopub.execute_input": "2023-03-27T18:34:47.267847Z",
     "iopub.status.busy": "2023-03-27T18:34:47.266883Z",
     "iopub.status.idle": "2023-03-27T18:34:47.284405Z",
     "shell.execute_reply": "2023-03-27T18:34:47.282898Z"
    },
    "papermill": {
     "duration": 0.039873,
     "end_time": "2023-03-27T18:34:47.287783",
     "exception": false,
     "start_time": "2023-03-27T18:34:47.247910",
     "status": "completed"
    },
    "tags": []
   },
   "outputs": [],
   "source": [
    "train['Month_SeasonalPurchase'] = imputer_constant_ns.fit_transform(train['Month_SeasonalPurchase'].values.reshape(-1,1))[:,0]\n",
    "train['Gender'] = imputer_constant_ns.fit_transform(train['Gender'].values.reshape(-1,1))[:,0]\n",
    "train['Cookies Setting'] = imputer_constant_ns.fit_transform(train['Cookies Setting'].values.reshape(-1,1))[:,0]\n",
    "train['Education'] = imputer_constant_ns.fit_transform(train['Education'].values.reshape(-1,1))[:,0]\n",
    "train['Marital Status'] = imputer_constant_ns.fit_transform(train['Marital Status'].values.reshape(-1,1))[:,0]\n",
    "train['CustomerType'] = imputer_constant_other.fit_transform(train['CustomerType'].values.reshape(-1,1))[:,0]"
   ]
  },
  {
   "cell_type": "code",
   "execution_count": 11,
   "id": "5ab59ca8",
   "metadata": {
    "execution": {
     "iopub.execute_input": "2023-03-27T18:34:47.325383Z",
     "iopub.status.busy": "2023-03-27T18:34:47.324913Z",
     "iopub.status.idle": "2023-03-27T18:34:47.340092Z",
     "shell.execute_reply": "2023-03-27T18:34:47.339074Z"
    },
    "papermill": {
     "duration": 0.03685,
     "end_time": "2023-03-27T18:34:47.342667",
     "exception": false,
     "start_time": "2023-03-27T18:34:47.305817",
     "status": "completed"
    },
    "tags": []
   },
   "outputs": [
    {
     "data": {
      "text/plain": [
       "HomePage                           0\n",
       "HomePage_Duration                  0\n",
       "LandingPage                        0\n",
       "LandingPage_Duration               0\n",
       "ProductDescriptionPage             0\n",
       "ProductDescriptionPage_Duration    0\n",
       "GoogleMetric:Bounce Rates          0\n",
       "GoogleMetric:Exit Rates            0\n",
       "GoogleMetric:Page Values           0\n",
       "SeasonalPurchase                   0\n",
       "Month_SeasonalPurchase             0\n",
       "OS                                 0\n",
       "SearchEngine                       0\n",
       "Zone                               0\n",
       "Type of Traffic                    0\n",
       "CustomerType                       0\n",
       "Gender                             0\n",
       "Cookies Setting                    0\n",
       "Education                          0\n",
       "Marital Status                     0\n",
       "WeekendPurchase                    0\n",
       "Made_Purchase                      0\n",
       "dtype: int64"
      ]
     },
     "execution_count": 11,
     "metadata": {},
     "output_type": "execute_result"
    }
   ],
   "source": [
    "train.isnull().sum()"
   ]
  },
  {
   "cell_type": "markdown",
   "id": "9e57543a",
   "metadata": {
    "papermill": {
     "duration": 0.017158,
     "end_time": "2023-03-27T18:34:47.377360",
     "exception": false,
     "start_time": "2023-03-27T18:34:47.360202",
     "status": "completed"
    },
    "tags": []
   },
   "source": [
    "## Encoding Categorical Data as Numerical Data\n",
    "Since there are also categorical variables, it is best to convert them via Label Encoder so that they too can be taken in the model evaluation"
   ]
  },
  {
   "cell_type": "code",
   "execution_count": 12,
   "id": "22ece9e1",
   "metadata": {
    "execution": {
     "iopub.execute_input": "2023-03-27T18:34:47.416375Z",
     "iopub.status.busy": "2023-03-27T18:34:47.415324Z",
     "iopub.status.idle": "2023-03-27T18:34:47.449960Z",
     "shell.execute_reply": "2023-03-27T18:34:47.448664Z"
    },
    "papermill": {
     "duration": 0.057466,
     "end_time": "2023-03-27T18:34:47.453033",
     "exception": false,
     "start_time": "2023-03-27T18:34:47.395567",
     "status": "completed"
    },
    "tags": []
   },
   "outputs": [],
   "source": [
    "le = LabelEncoder()\n",
    "train['Month_SeasonalPurchase'] = le.fit_transform(train['Month_SeasonalPurchase'])\n",
    "train['Gender'] = le.fit_transform(train['Gender'])\n",
    "train['Cookies Setting'] = le.fit_transform(train['Cookies Setting'])\n",
    "train['Education'] = le.fit_transform(train['Education'])\n",
    "train['Marital Status'] = le.fit_transform(train['Marital Status'])\n",
    "train['CustomerType'] = le.fit_transform(train['CustomerType'])"
   ]
  },
  {
   "cell_type": "markdown",
   "id": "6e0fc674",
   "metadata": {
    "papermill": {
     "duration": 0.017035,
     "end_time": "2023-03-27T18:34:47.487481",
     "exception": false,
     "start_time": "2023-03-27T18:34:47.470446",
     "status": "completed"
    },
    "tags": []
   },
   "source": [
    "## Standard Scaler\n",
    "It is important that all the variables are scaled and follow a Gaussian Distribution, so as to get the best results possible"
   ]
  },
  {
   "cell_type": "code",
   "execution_count": 13,
   "id": "a9af0139",
   "metadata": {
    "execution": {
     "iopub.execute_input": "2023-03-27T18:34:47.525089Z",
     "iopub.status.busy": "2023-03-27T18:34:47.523808Z",
     "iopub.status.idle": "2023-03-27T18:34:47.553039Z",
     "shell.execute_reply": "2023-03-27T18:34:47.551576Z"
    },
    "papermill": {
     "duration": 0.051012,
     "end_time": "2023-03-27T18:34:47.555853",
     "exception": false,
     "start_time": "2023-03-27T18:34:47.504841",
     "status": "completed"
    },
    "tags": []
   },
   "outputs": [],
   "source": [
    "scaler = StandardScaler()\n",
    "\n",
    "#Numerical Variables\n",
    "train['HomePage'] = scaler.fit_transform(train['HomePage'].values.reshape(-1,1))[:,0]\n",
    "train['HomePage_Duration'] = scaler.fit_transform(train['HomePage_Duration'].values.reshape(-1,1))[:,0]\n",
    "train['LandingPage'] = scaler.fit_transform(train['LandingPage'].values.reshape(-1,1))[:,0]\n",
    "train['LandingPage_Duration'] = scaler.fit_transform(train['LandingPage_Duration'].values.reshape(-1,1))[:,0]\n",
    "train['ProductDescriptionPage'] = scaler.fit_transform(train['ProductDescriptionPage'].values.reshape(-1,1))[:,0]\n",
    "train['ProductDescriptionPage_Duration'] = scaler.fit_transform(train['ProductDescriptionPage_Duration'].values.reshape(-1,1))[:,0]\n",
    "train['GoogleMetric:Bounce Rates'] = scaler.fit_transform(train['GoogleMetric:Bounce Rates'].values.reshape(-1,1))[:,0]\n",
    "train['GoogleMetric:Exit Rates'] = scaler.fit_transform(train['GoogleMetric:Exit Rates'].values.reshape(-1,1))[:,0]\n",
    "train['GoogleMetric:Page Values'] = scaler.fit_transform(train['GoogleMetric:Page Values'].values.reshape(-1,1))[:,0]\n",
    "train['SeasonalPurchase'] = scaler.fit_transform(train['SeasonalPurchase'].values.reshape(-1,1))[:,0]\n",
    "train['OS'] = scaler.fit_transform(train['OS'].values.reshape(-1,1))[:,0]\n",
    "train['SearchEngine'] = scaler.fit_transform(train['SearchEngine'].values.reshape(-1,1))[:,0]\n",
    "train['Zone'] = scaler.fit_transform(train['Zone'].values.reshape(-1,1))[:,0]\n",
    "train['Type of Traffic'] = scaler.fit_transform(train['Type of Traffic'].values.reshape(-1,1))[:,0]\n",
    "train['WeekendPurchase'] = scaler.fit_transform(train['WeekendPurchase'].values.reshape(-1,1))[:,0]\n",
    "\n",
    "\n"
   ]
  },
  {
   "cell_type": "code",
   "execution_count": 14,
   "id": "4970f582",
   "metadata": {
    "execution": {
     "iopub.execute_input": "2023-03-27T18:34:47.593951Z",
     "iopub.status.busy": "2023-03-27T18:34:47.593494Z",
     "iopub.status.idle": "2023-03-27T18:34:47.608595Z",
     "shell.execute_reply": "2023-03-27T18:34:47.607602Z"
    },
    "papermill": {
     "duration": 0.037354,
     "end_time": "2023-03-27T18:34:47.611401",
     "exception": false,
     "start_time": "2023-03-27T18:34:47.574047",
     "status": "completed"
    },
    "tags": []
   },
   "outputs": [],
   "source": [
    "#Categorical Variables\n",
    "train['Month_SeasonalPurchase'] = scaler.fit_transform(train['Month_SeasonalPurchase'].values.reshape(-1,1))[:,0]\n",
    "train['CustomerType'] = scaler.fit_transform(train['CustomerType'].values.reshape(-1,1))[:,0]\n",
    "train['Gender'] = scaler.fit_transform(train['Gender'].values.reshape(-1,1))[:,0]\n",
    "train['Cookies Setting'] = scaler.fit_transform(train['Cookies Setting'].values.reshape(-1,1))[:,0]\n",
    "train['Education'] = scaler.fit_transform(train['Education'].values.reshape(-1,1))[:,0]\n",
    "train['Marital Status'] = scaler.fit_transform(train['Marital Status'].values.reshape(-1,1))[:,0]"
   ]
  },
  {
   "cell_type": "code",
   "execution_count": 15,
   "id": "9bc250c7",
   "metadata": {
    "execution": {
     "iopub.execute_input": "2023-03-27T18:34:47.650421Z",
     "iopub.status.busy": "2023-03-27T18:34:47.649569Z",
     "iopub.status.idle": "2023-03-27T18:34:47.676886Z",
     "shell.execute_reply": "2023-03-27T18:34:47.675543Z"
    },
    "papermill": {
     "duration": 0.04986,
     "end_time": "2023-03-27T18:34:47.679530",
     "exception": false,
     "start_time": "2023-03-27T18:34:47.629670",
     "status": "completed"
    },
    "tags": []
   },
   "outputs": [
    {
     "data": {
      "text/html": [
       "<div>\n",
       "<style scoped>\n",
       "    .dataframe tbody tr th:only-of-type {\n",
       "        vertical-align: middle;\n",
       "    }\n",
       "\n",
       "    .dataframe tbody tr th {\n",
       "        vertical-align: top;\n",
       "    }\n",
       "\n",
       "    .dataframe thead th {\n",
       "        text-align: right;\n",
       "    }\n",
       "</style>\n",
       "<table border=\"1\" class=\"dataframe\">\n",
       "  <thead>\n",
       "    <tr style=\"text-align: right;\">\n",
       "      <th></th>\n",
       "      <th>HomePage</th>\n",
       "      <th>HomePage_Duration</th>\n",
       "      <th>LandingPage</th>\n",
       "      <th>LandingPage_Duration</th>\n",
       "      <th>ProductDescriptionPage</th>\n",
       "      <th>ProductDescriptionPage_Duration</th>\n",
       "      <th>GoogleMetric:Bounce Rates</th>\n",
       "      <th>GoogleMetric:Exit Rates</th>\n",
       "      <th>GoogleMetric:Page Values</th>\n",
       "      <th>SeasonalPurchase</th>\n",
       "      <th>...</th>\n",
       "      <th>SearchEngine</th>\n",
       "      <th>Zone</th>\n",
       "      <th>Type of Traffic</th>\n",
       "      <th>CustomerType</th>\n",
       "      <th>Gender</th>\n",
       "      <th>Cookies Setting</th>\n",
       "      <th>Education</th>\n",
       "      <th>Marital Status</th>\n",
       "      <th>WeekendPurchase</th>\n",
       "      <th>Made_Purchase</th>\n",
       "    </tr>\n",
       "  </thead>\n",
       "  <tbody>\n",
       "    <tr>\n",
       "      <th>0</th>\n",
       "      <td>-0.679181</td>\n",
       "      <td>-0.439417</td>\n",
       "      <td>-0.389509</td>\n",
       "      <td>-0.237571</td>\n",
       "      <td>-0.676251</td>\n",
       "      <td>-0.584894</td>\n",
       "      <td>3.551143</td>\n",
       "      <td>3.122939</td>\n",
       "      <td>-0.28361</td>\n",
       "      <td>-0.314568</td>\n",
       "      <td>...</td>\n",
       "      <td>-0.789350</td>\n",
       "      <td>2.440184</td>\n",
       "      <td>-0.265764</td>\n",
       "      <td>0.409903</td>\n",
       "      <td>1.193689</td>\n",
       "      <td>-0.280798</td>\n",
       "      <td>0.441160</td>\n",
       "      <td>0.256637</td>\n",
       "      <td>-0.549978</td>\n",
       "      <td>False</td>\n",
       "    </tr>\n",
       "    <tr>\n",
       "      <th>1</th>\n",
       "      <td>-0.679181</td>\n",
       "      <td>-0.439417</td>\n",
       "      <td>-0.389509</td>\n",
       "      <td>-0.237571</td>\n",
       "      <td>-0.653930</td>\n",
       "      <td>-0.583562</td>\n",
       "      <td>0.539548</td>\n",
       "      <td>1.919703</td>\n",
       "      <td>-0.28361</td>\n",
       "      <td>-0.314568</td>\n",
       "      <td>...</td>\n",
       "      <td>-0.206234</td>\n",
       "      <td>-0.481910</td>\n",
       "      <td>-0.017352</td>\n",
       "      <td>0.409903</td>\n",
       "      <td>-1.241126</td>\n",
       "      <td>-0.280798</td>\n",
       "      <td>1.334947</td>\n",
       "      <td>-1.362083</td>\n",
       "      <td>-0.549978</td>\n",
       "      <td>False</td>\n",
       "    </tr>\n",
       "    <tr>\n",
       "      <th>2</th>\n",
       "      <td>-0.679181</td>\n",
       "      <td>-0.439417</td>\n",
       "      <td>-0.389509</td>\n",
       "      <td>-0.237571</td>\n",
       "      <td>-0.475358</td>\n",
       "      <td>-0.271447</td>\n",
       "      <td>-0.062771</td>\n",
       "      <td>0.114849</td>\n",
       "      <td>-0.28361</td>\n",
       "      <td>-0.314568</td>\n",
       "      <td>...</td>\n",
       "      <td>0.376882</td>\n",
       "      <td>-0.899352</td>\n",
       "      <td>-0.017352</td>\n",
       "      <td>0.409903</td>\n",
       "      <td>-1.241126</td>\n",
       "      <td>-1.088379</td>\n",
       "      <td>1.334947</td>\n",
       "      <td>-1.362083</td>\n",
       "      <td>1.818255</td>\n",
       "      <td>False</td>\n",
       "    </tr>\n",
       "    <tr>\n",
       "      <th>3</th>\n",
       "      <td>-0.679181</td>\n",
       "      <td>-0.439417</td>\n",
       "      <td>-0.389509</td>\n",
       "      <td>-0.237571</td>\n",
       "      <td>-0.676251</td>\n",
       "      <td>-0.584894</td>\n",
       "      <td>3.551143</td>\n",
       "      <td>3.122939</td>\n",
       "      <td>-0.28361</td>\n",
       "      <td>1.669121</td>\n",
       "      <td>...</td>\n",
       "      <td>0.959998</td>\n",
       "      <td>-0.064468</td>\n",
       "      <td>-0.265764</td>\n",
       "      <td>0.409903</td>\n",
       "      <td>-0.023718</td>\n",
       "      <td>-1.088379</td>\n",
       "      <td>-1.346414</td>\n",
       "      <td>1.065997</td>\n",
       "      <td>-0.549978</td>\n",
       "      <td>False</td>\n",
       "    </tr>\n",
       "    <tr>\n",
       "      <th>4</th>\n",
       "      <td>-0.374187</td>\n",
       "      <td>-0.439417</td>\n",
       "      <td>-0.389509</td>\n",
       "      <td>-0.237571</td>\n",
       "      <td>-0.698573</td>\n",
       "      <td>-0.584894</td>\n",
       "      <td>3.551143</td>\n",
       "      <td>3.122939</td>\n",
       "      <td>-0.28361</td>\n",
       "      <td>-0.314568</td>\n",
       "      <td>...</td>\n",
       "      <td>-0.206234</td>\n",
       "      <td>-0.899352</td>\n",
       "      <td>0.231060</td>\n",
       "      <td>0.409903</td>\n",
       "      <td>-0.023718</td>\n",
       "      <td>-0.280798</td>\n",
       "      <td>-1.346414</td>\n",
       "      <td>0.256637</td>\n",
       "      <td>1.818255</td>\n",
       "      <td>False</td>\n",
       "    </tr>\n",
       "  </tbody>\n",
       "</table>\n",
       "<p>5 rows × 22 columns</p>\n",
       "</div>"
      ],
      "text/plain": [
       "   HomePage  HomePage_Duration  LandingPage  LandingPage_Duration  \\\n",
       "0 -0.679181          -0.439417    -0.389509             -0.237571   \n",
       "1 -0.679181          -0.439417    -0.389509             -0.237571   \n",
       "2 -0.679181          -0.439417    -0.389509             -0.237571   \n",
       "3 -0.679181          -0.439417    -0.389509             -0.237571   \n",
       "4 -0.374187          -0.439417    -0.389509             -0.237571   \n",
       "\n",
       "   ProductDescriptionPage  ProductDescriptionPage_Duration  \\\n",
       "0               -0.676251                        -0.584894   \n",
       "1               -0.653930                        -0.583562   \n",
       "2               -0.475358                        -0.271447   \n",
       "3               -0.676251                        -0.584894   \n",
       "4               -0.698573                        -0.584894   \n",
       "\n",
       "   GoogleMetric:Bounce Rates  GoogleMetric:Exit Rates  \\\n",
       "0                   3.551143                 3.122939   \n",
       "1                   0.539548                 1.919703   \n",
       "2                  -0.062771                 0.114849   \n",
       "3                   3.551143                 3.122939   \n",
       "4                   3.551143                 3.122939   \n",
       "\n",
       "   GoogleMetric:Page Values  SeasonalPurchase  ...  SearchEngine      Zone  \\\n",
       "0                  -0.28361         -0.314568  ...     -0.789350  2.440184   \n",
       "1                  -0.28361         -0.314568  ...     -0.206234 -0.481910   \n",
       "2                  -0.28361         -0.314568  ...      0.376882 -0.899352   \n",
       "3                  -0.28361          1.669121  ...      0.959998 -0.064468   \n",
       "4                  -0.28361         -0.314568  ...     -0.206234 -0.899352   \n",
       "\n",
       "   Type of Traffic  CustomerType    Gender  Cookies Setting  Education  \\\n",
       "0        -0.265764      0.409903  1.193689        -0.280798   0.441160   \n",
       "1        -0.017352      0.409903 -1.241126        -0.280798   1.334947   \n",
       "2        -0.017352      0.409903 -1.241126        -1.088379   1.334947   \n",
       "3        -0.265764      0.409903 -0.023718        -1.088379  -1.346414   \n",
       "4         0.231060      0.409903 -0.023718        -0.280798  -1.346414   \n",
       "\n",
       "   Marital Status  WeekendPurchase  Made_Purchase  \n",
       "0        0.256637        -0.549978          False  \n",
       "1       -1.362083        -0.549978          False  \n",
       "2       -1.362083         1.818255          False  \n",
       "3        1.065997        -0.549978          False  \n",
       "4        0.256637         1.818255          False  \n",
       "\n",
       "[5 rows x 22 columns]"
      ]
     },
     "execution_count": 15,
     "metadata": {},
     "output_type": "execute_result"
    }
   ],
   "source": [
    "train.head()"
   ]
  },
  {
   "cell_type": "code",
   "execution_count": 16,
   "id": "0d68bc32",
   "metadata": {
    "execution": {
     "iopub.execute_input": "2023-03-27T18:34:47.717661Z",
     "iopub.status.busy": "2023-03-27T18:34:47.717274Z",
     "iopub.status.idle": "2023-03-27T18:34:47.727428Z",
     "shell.execute_reply": "2023-03-27T18:34:47.726049Z"
    },
    "papermill": {
     "duration": 0.032583,
     "end_time": "2023-03-27T18:34:47.730154",
     "exception": false,
     "start_time": "2023-03-27T18:34:47.697571",
     "status": "completed"
    },
    "tags": []
   },
   "outputs": [],
   "source": [
    "x = train.drop(\"Made_Purchase\",axis = 1)\n",
    "y = train[\"Made_Purchase\"]"
   ]
  },
  {
   "cell_type": "markdown",
   "id": "8a1d38f8",
   "metadata": {
    "papermill": {
     "duration": 0.01816,
     "end_time": "2023-03-27T18:34:47.766258",
     "exception": false,
     "start_time": "2023-03-27T18:34:47.748098",
     "status": "completed"
    },
    "tags": []
   },
   "source": [
    "# Feature Removal"
   ]
  },
  {
   "cell_type": "code",
   "execution_count": 17,
   "id": "857ef89f",
   "metadata": {
    "execution": {
     "iopub.execute_input": "2023-03-27T18:34:47.804897Z",
     "iopub.status.busy": "2023-03-27T18:34:47.804463Z",
     "iopub.status.idle": "2023-03-27T18:36:25.219960Z",
     "shell.execute_reply": "2023-03-27T18:36:25.218589Z"
    },
    "papermill": {
     "duration": 97.455753,
     "end_time": "2023-03-27T18:36:25.240740",
     "exception": false,
     "start_time": "2023-03-27T18:34:47.784987",
     "status": "completed"
    },
    "tags": []
   },
   "outputs": [
    {
     "data": {
      "text/plain": [
       "SequentialFeatureSelector(direction='backward',\n",
       "                          estimator=DecisionTreeClassifier(),\n",
       "                          n_features_to_select=12)"
      ]
     },
     "execution_count": 17,
     "metadata": {},
     "output_type": "execute_result"
    }
   ],
   "source": [
    "from sklearn.feature_selection import SequentialFeatureSelector\n",
    "from sklearn.tree import DecisionTreeClassifier\n",
    "dt = DecisionTreeClassifier()\n",
    "sfs = SequentialFeatureSelector(dt, n_features_to_select=12,direction = 'backward')\n",
    "sfs.fit(x, y)\n",
    "\n"
   ]
  },
  {
   "cell_type": "code",
   "execution_count": 18,
   "id": "4feb9a05",
   "metadata": {
    "execution": {
     "iopub.execute_input": "2023-03-27T18:36:25.279650Z",
     "iopub.status.busy": "2023-03-27T18:36:25.279220Z",
     "iopub.status.idle": "2023-03-27T18:36:25.287236Z",
     "shell.execute_reply": "2023-03-27T18:36:25.286060Z"
    },
    "papermill": {
     "duration": 0.030669,
     "end_time": "2023-03-27T18:36:25.289866",
     "exception": false,
     "start_time": "2023-03-27T18:36:25.259197",
     "status": "completed"
    },
    "tags": []
   },
   "outputs": [
    {
     "data": {
      "text/plain": [
       "array([ True,  True,  True, False, False, False, False, False,  True,\n",
       "        True, False,  True,  True,  True, False,  True,  True,  True,\n",
       "       False,  True, False])"
      ]
     },
     "execution_count": 18,
     "metadata": {},
     "output_type": "execute_result"
    }
   ],
   "source": [
    "sfs.get_support()\n"
   ]
  },
  {
   "cell_type": "code",
   "execution_count": 19,
   "id": "32600e64",
   "metadata": {
    "execution": {
     "iopub.execute_input": "2023-03-27T18:36:25.328862Z",
     "iopub.status.busy": "2023-03-27T18:36:25.328426Z",
     "iopub.status.idle": "2023-03-27T18:36:25.336342Z",
     "shell.execute_reply": "2023-03-27T18:36:25.335066Z"
    },
    "papermill": {
     "duration": 0.030293,
     "end_time": "2023-03-27T18:36:25.339071",
     "exception": false,
     "start_time": "2023-03-27T18:36:25.308778",
     "status": "completed"
    },
    "tags": []
   },
   "outputs": [
    {
     "data": {
      "text/plain": [
       "Index(['HomePage', 'HomePage_Duration', 'LandingPage', 'LandingPage_Duration',\n",
       "       'ProductDescriptionPage', 'ProductDescriptionPage_Duration',\n",
       "       'GoogleMetric:Bounce Rates', 'GoogleMetric:Exit Rates',\n",
       "       'GoogleMetric:Page Values', 'SeasonalPurchase',\n",
       "       'Month_SeasonalPurchase', 'OS', 'SearchEngine', 'Zone',\n",
       "       'Type of Traffic', 'CustomerType', 'Gender', 'Cookies Setting',\n",
       "       'Education', 'Marital Status', 'WeekendPurchase', 'Made_Purchase'],\n",
       "      dtype='object')"
      ]
     },
     "execution_count": 19,
     "metadata": {},
     "output_type": "execute_result"
    }
   ],
   "source": [
    "train.columns"
   ]
  },
  {
   "cell_type": "markdown",
   "id": "dc40a29c",
   "metadata": {
    "papermill": {
     "duration": 0.017818,
     "end_time": "2023-03-27T18:36:25.375140",
     "exception": false,
     "start_time": "2023-03-27T18:36:25.357322",
     "status": "completed"
    },
    "tags": []
   },
   "source": [
    "So, we will drop all the features which are redundant as per our classifiers i.e. we will only go forward with the top 14 features"
   ]
  },
  {
   "cell_type": "code",
   "execution_count": 20,
   "id": "0d4708e6",
   "metadata": {
    "execution": {
     "iopub.execute_input": "2023-03-27T18:36:25.414140Z",
     "iopub.status.busy": "2023-03-27T18:36:25.412796Z",
     "iopub.status.idle": "2023-03-27T18:36:25.418139Z",
     "shell.execute_reply": "2023-03-27T18:36:25.417215Z"
    },
    "papermill": {
     "duration": 0.027545,
     "end_time": "2023-03-27T18:36:25.420812",
     "exception": false,
     "start_time": "2023-03-27T18:36:25.393267",
     "status": "completed"
    },
    "tags": []
   },
   "outputs": [],
   "source": [
    "L = ['LandingPage_Duration',\n",
    "       'ProductDescriptionPage', 'ProductDescriptionPage_Duration','SeasonalPurchase',\n",
    "       'Month_SeasonalPurchase', 'OS','Type of Traffic','Gender','Education','Marital Status']"
   ]
  },
  {
   "cell_type": "code",
   "execution_count": 21,
   "id": "3be161ed",
   "metadata": {
    "execution": {
     "iopub.execute_input": "2023-03-27T18:36:25.459819Z",
     "iopub.status.busy": "2023-03-27T18:36:25.459135Z",
     "iopub.status.idle": "2023-03-27T18:36:25.466074Z",
     "shell.execute_reply": "2023-03-27T18:36:25.465093Z"
    },
    "papermill": {
     "duration": 0.029484,
     "end_time": "2023-03-27T18:36:25.468602",
     "exception": false,
     "start_time": "2023-03-27T18:36:25.439118",
     "status": "completed"
    },
    "tags": []
   },
   "outputs": [
    {
     "data": {
      "text/plain": [
       "10"
      ]
     },
     "execution_count": 21,
     "metadata": {},
     "output_type": "execute_result"
    }
   ],
   "source": [
    "len(L)"
   ]
  },
  {
   "cell_type": "code",
   "execution_count": 22,
   "id": "c77285f4",
   "metadata": {
    "execution": {
     "iopub.execute_input": "2023-03-27T18:36:25.507183Z",
     "iopub.status.busy": "2023-03-27T18:36:25.506719Z",
     "iopub.status.idle": "2023-03-27T18:36:25.515835Z",
     "shell.execute_reply": "2023-03-27T18:36:25.514577Z"
    },
    "papermill": {
     "duration": 0.031411,
     "end_time": "2023-03-27T18:36:25.518388",
     "exception": false,
     "start_time": "2023-03-27T18:36:25.486977",
     "status": "completed"
    },
    "tags": []
   },
   "outputs": [],
   "source": [
    "x = x.drop(L,axis = 1)"
   ]
  },
  {
   "cell_type": "markdown",
   "id": "5ed9410e",
   "metadata": {
    "papermill": {
     "duration": 0.018756,
     "end_time": "2023-03-27T18:36:25.555584",
     "exception": false,
     "start_time": "2023-03-27T18:36:25.536828",
     "status": "completed"
    },
    "tags": []
   },
   "source": [
    "\n",
    "## Finding the distribution of target values"
   ]
  },
  {
   "cell_type": "code",
   "execution_count": 23,
   "id": "8681fafb",
   "metadata": {
    "execution": {
     "iopub.execute_input": "2023-03-27T18:36:25.595034Z",
     "iopub.status.busy": "2023-03-27T18:36:25.593820Z",
     "iopub.status.idle": "2023-03-27T18:36:25.605627Z",
     "shell.execute_reply": "2023-03-27T18:36:25.604088Z"
    },
    "papermill": {
     "duration": 0.03463,
     "end_time": "2023-03-27T18:36:25.608589",
     "exception": false,
     "start_time": "2023-03-27T18:36:25.573959",
     "status": "completed"
    },
    "tags": []
   },
   "outputs": [
    {
     "name": "stdout",
     "output_type": "stream",
     "text": [
      "People who did not make the purchase are: 9065\n",
      "People who made purchase are: 5666\n"
     ]
    }
   ],
   "source": [
    "a = train[\"Made_Purchase\"].value_counts()\n",
    "print('People who did not make the purchase are:', a[0])\n",
    "print('People who made purchase are:', a[1])"
   ]
  },
  {
   "cell_type": "markdown",
   "id": "3379ad2e",
   "metadata": {
    "papermill": {
     "duration": 0.018593,
     "end_time": "2023-03-27T18:36:25.646368",
     "exception": false,
     "start_time": "2023-03-27T18:36:25.627775",
     "status": "completed"
    },
    "tags": []
   },
   "source": [
    "As we can see above, the data is imbalanced i.e the samples for True (Class 1) are less. Hence, we will sythetically generate more samples using SMOTE"
   ]
  },
  {
   "cell_type": "markdown",
   "id": "9bcf8635",
   "metadata": {
    "papermill": {
     "duration": 0.018084,
     "end_time": "2023-03-27T18:36:25.683966",
     "exception": false,
     "start_time": "2023-03-27T18:36:25.665882",
     "status": "completed"
    },
    "tags": []
   },
   "source": [
    "## SMOTE Samples\n",
    "\n",
    "We will be creating SMOTE Samples, hence we will import the dependencies accordingly"
   ]
  },
  {
   "cell_type": "code",
   "execution_count": 24,
   "id": "b301c530",
   "metadata": {
    "execution": {
     "iopub.execute_input": "2023-03-27T18:36:25.722862Z",
     "iopub.status.busy": "2023-03-27T18:36:25.722466Z",
     "iopub.status.idle": "2023-03-27T18:36:26.086086Z",
     "shell.execute_reply": "2023-03-27T18:36:26.084581Z"
    },
    "papermill": {
     "duration": 0.386778,
     "end_time": "2023-03-27T18:36:26.089153",
     "exception": false,
     "start_time": "2023-03-27T18:36:25.702375",
     "status": "completed"
    },
    "tags": []
   },
   "outputs": [],
   "source": [
    "from imblearn.over_sampling import SMOTE\n",
    "from collections import Counter\n"
   ]
  },
  {
   "cell_type": "code",
   "execution_count": 25,
   "id": "c7dbb2b3",
   "metadata": {
    "execution": {
     "iopub.execute_input": "2023-03-27T18:36:26.128377Z",
     "iopub.status.busy": "2023-03-27T18:36:26.127897Z",
     "iopub.status.idle": "2023-03-27T18:36:26.421352Z",
     "shell.execute_reply": "2023-03-27T18:36:26.420280Z"
    },
    "papermill": {
     "duration": 0.316844,
     "end_time": "2023-03-27T18:36:26.424501",
     "exception": false,
     "start_time": "2023-03-27T18:36:26.107657",
     "status": "completed"
    },
    "tags": []
   },
   "outputs": [],
   "source": [
    "oversample = SMOTE()\n",
    "x_smt, y_smt = oversample.fit_resample(x, y)"
   ]
  },
  {
   "cell_type": "code",
   "execution_count": 26,
   "id": "952b6068",
   "metadata": {
    "execution": {
     "iopub.execute_input": "2023-03-27T18:36:26.464164Z",
     "iopub.status.busy": "2023-03-27T18:36:26.463721Z",
     "iopub.status.idle": "2023-03-27T18:36:26.472586Z",
     "shell.execute_reply": "2023-03-27T18:36:26.471156Z"
    },
    "papermill": {
     "duration": 0.032177,
     "end_time": "2023-03-27T18:36:26.475498",
     "exception": false,
     "start_time": "2023-03-27T18:36:26.443321",
     "status": "completed"
    },
    "tags": []
   },
   "outputs": [
    {
     "name": "stdout",
     "output_type": "stream",
     "text": [
      "Counter({False: 9065, True: 9065})\n"
     ]
    }
   ],
   "source": [
    "counter = Counter(y_smt)\n",
    "print(counter)"
   ]
  },
  {
   "cell_type": "markdown",
   "id": "a90f7a4d",
   "metadata": {
    "papermill": {
     "duration": 0.018893,
     "end_time": "2023-03-27T18:36:26.513651",
     "exception": false,
     "start_time": "2023-03-27T18:36:26.494758",
     "status": "completed"
    },
    "tags": []
   },
   "source": [
    "# Splitting the Data Between Train and Test"
   ]
  },
  {
   "cell_type": "code",
   "execution_count": 27,
   "id": "b46797c7",
   "metadata": {
    "execution": {
     "iopub.execute_input": "2023-03-27T18:36:26.552580Z",
     "iopub.status.busy": "2023-03-27T18:36:26.552162Z",
     "iopub.status.idle": "2023-03-27T18:36:26.570360Z",
     "shell.execute_reply": "2023-03-27T18:36:26.568773Z"
    },
    "papermill": {
     "duration": 0.041355,
     "end_time": "2023-03-27T18:36:26.573615",
     "exception": false,
     "start_time": "2023-03-27T18:36:26.532260",
     "status": "completed"
    },
    "tags": []
   },
   "outputs": [],
   "source": [
    "from sklearn.model_selection import train_test_split\n",
    "x_train_smt, x_test_smt, y_train_smt, y_test_smt = train_test_split(x_smt,y_smt,test_size = 0.1, stratify = y_smt, random_state = 1, shuffle = True)"
   ]
  },
  {
   "cell_type": "markdown",
   "id": "216acbf4",
   "metadata": {
    "papermill": {
     "duration": 0.018159,
     "end_time": "2023-03-27T18:36:26.610450",
     "exception": false,
     "start_time": "2023-03-27T18:36:26.592291",
     "status": "completed"
    },
    "tags": []
   },
   "source": [
    "# Evaluating Models"
   ]
  },
  {
   "cell_type": "code",
   "execution_count": 28,
   "id": "a06c2215",
   "metadata": {
    "execution": {
     "iopub.execute_input": "2023-03-27T18:36:26.651090Z",
     "iopub.status.busy": "2023-03-27T18:36:26.650647Z",
     "iopub.status.idle": "2023-03-27T18:36:26.656464Z",
     "shell.execute_reply": "2023-03-27T18:36:26.655110Z"
    },
    "papermill": {
     "duration": 0.02919,
     "end_time": "2023-03-27T18:36:26.659126",
     "exception": false,
     "start_time": "2023-03-27T18:36:26.629936",
     "status": "completed"
    },
    "tags": []
   },
   "outputs": [],
   "source": [
    "from sklearn.linear_model import LogisticRegression\n",
    "from sklearn.linear_model import Perceptron\n",
    "from sklearn.ensemble import GradientBoostingClassifier"
   ]
  },
  {
   "cell_type": "code",
   "execution_count": 29,
   "id": "d1b057a8",
   "metadata": {
    "execution": {
     "iopub.execute_input": "2023-03-27T18:36:26.698761Z",
     "iopub.status.busy": "2023-03-27T18:36:26.697653Z",
     "iopub.status.idle": "2023-03-27T18:36:26.766856Z",
     "shell.execute_reply": "2023-03-27T18:36:26.764705Z"
    },
    "papermill": {
     "duration": 0.094656,
     "end_time": "2023-03-27T18:36:26.772226",
     "exception": false,
     "start_time": "2023-03-27T18:36:26.677570",
     "status": "completed"
    },
    "tags": []
   },
   "outputs": [
    {
     "name": "stdout",
     "output_type": "stream",
     "text": [
      "X_test prediction f1 score is: 0.4429223744292237\n"
     ]
    }
   ],
   "source": [
    "model0 = LogisticRegression()\n",
    "\n",
    "model0.fit(x_train_smt,y_train_smt)\n",
    "test_pred0 = model0.predict(x_test_smt)\n",
    "print(\"X_test prediction f1 score is:\",f1_score(y_test_smt,test_pred0))"
   ]
  },
  {
   "cell_type": "code",
   "execution_count": 30,
   "id": "eea15e6e",
   "metadata": {
    "execution": {
     "iopub.execute_input": "2023-03-27T18:36:26.875630Z",
     "iopub.status.busy": "2023-03-27T18:36:26.874829Z",
     "iopub.status.idle": "2023-03-27T18:36:26.947556Z",
     "shell.execute_reply": "2023-03-27T18:36:26.945657Z"
    },
    "papermill": {
     "duration": 0.131274,
     "end_time": "2023-03-27T18:36:26.953357",
     "exception": false,
     "start_time": "2023-03-27T18:36:26.822083",
     "status": "completed"
    },
    "tags": []
   },
   "outputs": [
    {
     "name": "stdout",
     "output_type": "stream",
     "text": [
      "-- Epoch 1\n",
      "Norm: 1519.30, NNZs: 7, Bias: 30.000000, T: 16317, Avg. loss: 20.576850\n",
      "Total training time: 0.00 seconds.\n",
      "-- Epoch 2\n",
      "Norm: 2640.90, NNZs: 4, Bias: 20.000000, T: 32634, Avg. loss: 13.252241\n",
      "Total training time: 0.01 seconds.\n",
      "-- Epoch 3\n",
      "Norm: 3573.28, NNZs: 1, Bias: 10.000000, T: 48951, Avg. loss: 8.972000\n",
      "Total training time: 0.01 seconds.\n",
      "-- Epoch 4\n",
      "Norm: 4369.72, NNZs: 4, Bias: 0.000000, T: 65268, Avg. loss: 7.707577\n",
      "Total training time: 0.01 seconds.\n",
      "-- Epoch 5\n",
      "Norm: 5065.91, NNZs: 1, Bias: 0.000000, T: 81585, Avg. loss: 6.878409\n",
      "Total training time: 0.02 seconds.\n",
      "-- Epoch 6\n",
      "Norm: 5708.24, NNZs: 2, Bias: 20.000000, T: 97902, Avg. loss: 6.364665\n",
      "Total training time: 0.02 seconds.\n",
      "-- Epoch 7\n",
      "Norm: 6303.70, NNZs: 1, Bias: -10.000000, T: 114219, Avg. loss: 5.877801\n",
      "Total training time: 0.02 seconds.\n",
      "-- Epoch 8\n",
      "Norm: 6858.57, NNZs: 6, Bias: 20.000000, T: 130536, Avg. loss: 5.828761\n",
      "Total training time: 0.02 seconds.\n",
      "-- Epoch 9\n",
      "Norm: 7373.56, NNZs: 1, Bias: 10.000000, T: 146853, Avg. loss: 5.674300\n",
      "Total training time: 0.03 seconds.\n",
      "-- Epoch 10\n",
      "Norm: 7857.21, NNZs: 2, Bias: 0.000000, T: 163170, Avg. loss: 5.346622\n",
      "Total training time: 0.03 seconds.\n",
      "-- Epoch 11\n",
      "Norm: 8319.49, NNZs: 2, Bias: 0.000000, T: 179487, Avg. loss: 5.465245\n",
      "Total training time: 0.03 seconds.\n",
      "-- Epoch 12\n",
      "Norm: 8772.22, NNZs: 1, Bias: 0.000000, T: 195804, Avg. loss: 4.302024\n",
      "Total training time: 0.04 seconds.\n",
      "-- Epoch 13\n",
      "Norm: 9203.66, NNZs: 1, Bias: 0.000000, T: 212121, Avg. loss: 5.223298\n",
      "Total training time: 0.04 seconds.\n",
      "-- Epoch 14\n",
      "Norm: 9617.04, NNZs: 3, Bias: 0.000000, T: 228438, Avg. loss: 4.731846\n",
      "Total training time: 0.04 seconds.\n",
      "-- Epoch 15\n",
      "Norm: 10009.75, NNZs: 3, Bias: 10.000000, T: 244755, Avg. loss: 4.482778\n",
      "Total training time: 0.04 seconds.\n",
      "-- Epoch 16\n",
      "Norm: 10382.28, NNZs: 3, Bias: 20.000000, T: 261072, Avg. loss: 4.698981\n",
      "Total training time: 0.05 seconds.\n",
      "-- Epoch 17\n",
      "Norm: 10750.27, NNZs: 2, Bias: 0.000000, T: 277389, Avg. loss: 4.422580\n",
      "Total training time: 0.05 seconds.\n",
      "Convergence after 17 epochs took 0.05 seconds\n",
      "X_test prediction f1 score is: 0.6325276526013929\n"
     ]
    }
   ],
   "source": [
    "from sklearn.linear_model import Perceptron\n",
    "model1 = Perceptron(max_iter = 2000, penalty = 'l1', alpha = 0.00012, fit_intercept = True, shuffle = True, verbose = 3, eta0 = 10)\n",
    "model1.fit(x_train_smt,y_train_smt)\n",
    "test_pred1 = model1.predict(x_test_smt)\n",
    "print(\"X_test prediction f1 score is:\",f1_score(y_test_smt,test_pred1))"
   ]
  },
  {
   "cell_type": "code",
   "execution_count": 31,
   "id": "a57cc654",
   "metadata": {
    "execution": {
     "iopub.execute_input": "2023-03-27T18:36:27.055872Z",
     "iopub.status.busy": "2023-03-27T18:36:27.055165Z",
     "iopub.status.idle": "2023-03-27T18:36:29.176332Z",
     "shell.execute_reply": "2023-03-27T18:36:29.174848Z"
    },
    "papermill": {
     "duration": 2.174948,
     "end_time": "2023-03-27T18:36:29.179105",
     "exception": false,
     "start_time": "2023-03-27T18:36:27.004157",
     "status": "completed"
    },
    "tags": []
   },
   "outputs": [
    {
     "name": "stdout",
     "output_type": "stream",
     "text": [
      "      Iter       Train Loss   Remaining Time \n",
      "         1           1.3682            2.33s\n",
      "         2           1.3536            2.19s\n",
      "         3           1.3412            2.11s\n",
      "         4           1.3311            2.06s\n",
      "         5           1.3227            2.02s\n",
      "         6           1.3154            1.99s\n",
      "         7           1.3086            1.96s\n",
      "         8           1.3032            1.93s\n",
      "         9           1.2980            1.91s\n",
      "        10           1.2939            1.90s\n",
      "        20           1.2720            1.69s\n",
      "        30           1.2570            1.48s\n",
      "        40           1.2433            1.27s\n",
      "        50           1.2296            1.06s\n",
      "        60           1.2161            0.85s\n",
      "        70           1.2067            0.63s\n",
      "        80           1.1988            0.42s\n",
      "        90           1.1922            0.21s\n",
      "       100           1.1870            0.00s\n",
      "X_test prediction f1 score is: 0.5804195804195804\n"
     ]
    }
   ],
   "source": [
    "\n",
    "model2 = GradientBoostingClassifier(ccp_alpha=0.0, criterion='friedman_mse', init=None,\n",
    "                           learning_rate=0.1, max_depth=3, verbose = 1)\n",
    "\n",
    "model2.fit(x_train_smt,y_train_smt)\n",
    "test_pred2 = model2.predict(x_test_smt)\n",
    "print(\"X_test prediction f1 score is:\",f1_score(y_test_smt,test_pred2))"
   ]
  },
  {
   "cell_type": "markdown",
   "id": "01d39677",
   "metadata": {
    "papermill": {
     "duration": 0.018897,
     "end_time": "2023-03-27T18:36:29.217376",
     "exception": false,
     "start_time": "2023-03-27T18:36:29.198479",
     "status": "completed"
    },
    "tags": []
   },
   "source": [
    "Here, I am of the belief that a combination of Perceptron and Gradient Boosting can work well."
   ]
  },
  {
   "cell_type": "markdown",
   "id": "ce8d5d31",
   "metadata": {
    "papermill": {
     "duration": 0.019321,
     "end_time": "2023-03-27T18:36:29.256126",
     "exception": false,
     "start_time": "2023-03-27T18:36:29.236805",
     "status": "completed"
    },
    "tags": []
   },
   "source": [
    "# Test Data"
   ]
  },
  {
   "cell_type": "code",
   "execution_count": 32,
   "id": "84cc9bcc",
   "metadata": {
    "execution": {
     "iopub.execute_input": "2023-03-27T18:36:29.296924Z",
     "iopub.status.busy": "2023-03-27T18:36:29.296474Z",
     "iopub.status.idle": "2023-03-27T18:36:29.337370Z",
     "shell.execute_reply": "2023-03-27T18:36:29.336367Z"
    },
    "papermill": {
     "duration": 0.064615,
     "end_time": "2023-03-27T18:36:29.340244",
     "exception": false,
     "start_time": "2023-03-27T18:36:29.275629",
     "status": "completed"
    },
    "tags": []
   },
   "outputs": [],
   "source": [
    "test = pd.read_csv(\"/kaggle/input/e-commerce-shoppers-behaviour-understanding/test_data_v2.csv\")"
   ]
  },
  {
   "cell_type": "markdown",
   "id": "c2a37145",
   "metadata": {
    "papermill": {
     "duration": 0.018863,
     "end_time": "2023-03-27T18:36:29.378520",
     "exception": false,
     "start_time": "2023-03-27T18:36:29.359657",
     "status": "completed"
    },
    "tags": []
   },
   "source": [
    "## Imputing the test dataset columns"
   ]
  },
  {
   "cell_type": "code",
   "execution_count": 33,
   "id": "5c02d215",
   "metadata": {
    "execution": {
     "iopub.execute_input": "2023-03-27T18:36:29.419903Z",
     "iopub.status.busy": "2023-03-27T18:36:29.419458Z",
     "iopub.status.idle": "2023-03-27T18:36:29.429621Z",
     "shell.execute_reply": "2023-03-27T18:36:29.428363Z"
    },
    "papermill": {
     "duration": 0.033651,
     "end_time": "2023-03-27T18:36:29.432040",
     "exception": false,
     "start_time": "2023-03-27T18:36:29.398389",
     "status": "completed"
    },
    "tags": []
   },
   "outputs": [],
   "source": [
    "test['HomePage'] = imputer_constant_zero.fit_transform(test['HomePage'].values.reshape(-1,1))[:,0]\n",
    "test['LandingPage'] = imputer_constant_zero.fit_transform(test['LandingPage'].values.reshape(-1,1))[:,0]\n",
    "test['ProductDescriptionPage'] = imputer_constant_zero.fit_transform(test['ProductDescriptionPage'].values.reshape(-1,1))[:,0]\n",
    "test['SeasonalPurchase'] = imputer_constant_zero.fit_transform(test['SeasonalPurchase'].values.reshape(-1,1))[:,0]"
   ]
  },
  {
   "cell_type": "code",
   "execution_count": 34,
   "id": "52f9ccae",
   "metadata": {
    "execution": {
     "iopub.execute_input": "2023-03-27T18:36:29.473292Z",
     "iopub.status.busy": "2023-03-27T18:36:29.471986Z",
     "iopub.status.idle": "2023-03-27T18:36:29.485011Z",
     "shell.execute_reply": "2023-03-27T18:36:29.483513Z"
    },
    "papermill": {
     "duration": 0.036652,
     "end_time": "2023-03-27T18:36:29.487930",
     "exception": false,
     "start_time": "2023-03-27T18:36:29.451278",
     "status": "completed"
    },
    "tags": []
   },
   "outputs": [],
   "source": [
    "test['HomePage_Duration'] = imputer_constant_zero.fit_transform(test['HomePage_Duration'].values.reshape(-1,1))[:,0]\n",
    "test['LandingPage_Duration'] = imputer_constant_zero.fit_transform(test['LandingPage_Duration'].values.reshape(-1,1))[:,0]\n",
    "test['ProductDescriptionPage_Duration'] = imputer_constant_zero.fit_transform(test['ProductDescriptionPage_Duration'].values.reshape(-1,1))[:,0]\n",
    "test['GoogleMetric:Bounce Rates'] = imputer_constant_zero.fit_transform(test['GoogleMetric:Bounce Rates'].values.reshape(-1,1))[:,0]\n",
    "test['GoogleMetric:Exit Rates'] = imputer_constant_zero.fit_transform(test['GoogleMetric:Exit Rates'].values.reshape(-1,1))[:,0]\n",
    "test['GoogleMetric:Page Values'] = imputer_constant_zero.fit_transform(test['GoogleMetric:Page Values'].values.reshape(-1,1))[:,0]"
   ]
  },
  {
   "cell_type": "code",
   "execution_count": 35,
   "id": "0d0bd3e2",
   "metadata": {
    "execution": {
     "iopub.execute_input": "2023-03-27T18:36:29.529388Z",
     "iopub.status.busy": "2023-03-27T18:36:29.528942Z",
     "iopub.status.idle": "2023-03-27T18:36:29.546032Z",
     "shell.execute_reply": "2023-03-27T18:36:29.544988Z"
    },
    "papermill": {
     "duration": 0.041597,
     "end_time": "2023-03-27T18:36:29.548768",
     "exception": false,
     "start_time": "2023-03-27T18:36:29.507171",
     "status": "completed"
    },
    "tags": []
   },
   "outputs": [],
   "source": [
    "test['OS'] = imputer_median.fit_transform(test['OS'].values.reshape(-1,1))[:,0]\n",
    "test['SearchEngine'] = imputer_median.fit_transform(test['SearchEngine'].values.reshape(-1,1))[:,0]\n",
    "test['Zone'] = imputer_median.fit_transform(test['Zone'].values.reshape(-1,1))[:,0]\n",
    "test['Type of Traffic'] = imputer_median.fit_transform(test['Type of Traffic'].values.reshape(-1,1))[:,0]\n",
    "test['WeekendPurchase'] = imputer_median.fit_transform(test['WeekendPurchase'].values.reshape(-1,1))[:,0]\n"
   ]
  },
  {
   "cell_type": "code",
   "execution_count": 36,
   "id": "f006ee65",
   "metadata": {
    "execution": {
     "iopub.execute_input": "2023-03-27T18:36:29.590674Z",
     "iopub.status.busy": "2023-03-27T18:36:29.589776Z",
     "iopub.status.idle": "2023-03-27T18:36:29.605086Z",
     "shell.execute_reply": "2023-03-27T18:36:29.603824Z"
    },
    "papermill": {
     "duration": 0.039268,
     "end_time": "2023-03-27T18:36:29.607908",
     "exception": false,
     "start_time": "2023-03-27T18:36:29.568640",
     "status": "completed"
    },
    "tags": []
   },
   "outputs": [],
   "source": [
    "test['Month_SeasonalPurchase'] = imputer_constant_ns.fit_transform(test['Month_SeasonalPurchase'].values.reshape(-1,1))[:,0]\n",
    "test['Gender'] = imputer_constant_ns.fit_transform(test['Gender'].values.reshape(-1,1))[:,0]\n",
    "test['Cookies Setting'] = imputer_constant_ns.fit_transform(test['Cookies Setting'].values.reshape(-1,1))[:,0]\n",
    "test['Education'] = imputer_constant_ns.fit_transform(test['Education'].values.reshape(-1,1))[:,0]\n",
    "test['Marital Status'] = imputer_constant_ns.fit_transform(test['Marital Status'].values.reshape(-1,1))[:,0]\n",
    "test['CustomerType'] = imputer_constant_other.fit_transform(test['CustomerType'].values.reshape(-1,1))[:,0]"
   ]
  },
  {
   "cell_type": "code",
   "execution_count": 37,
   "id": "209fbd65",
   "metadata": {
    "execution": {
     "iopub.execute_input": "2023-03-27T18:36:29.649116Z",
     "iopub.status.busy": "2023-03-27T18:36:29.648148Z",
     "iopub.status.idle": "2023-03-27T18:36:29.660167Z",
     "shell.execute_reply": "2023-03-27T18:36:29.658992Z"
    },
    "papermill": {
     "duration": 0.035253,
     "end_time": "2023-03-27T18:36:29.662572",
     "exception": false,
     "start_time": "2023-03-27T18:36:29.627319",
     "status": "completed"
    },
    "tags": []
   },
   "outputs": [
    {
     "data": {
      "text/plain": [
       "HomePage                           0\n",
       "HomePage_Duration                  0\n",
       "LandingPage                        0\n",
       "LandingPage_Duration               0\n",
       "ProductDescriptionPage             0\n",
       "ProductDescriptionPage_Duration    0\n",
       "GoogleMetric:Bounce Rates          0\n",
       "GoogleMetric:Exit Rates            0\n",
       "GoogleMetric:Page Values           0\n",
       "SeasonalPurchase                   0\n",
       "Month_SeasonalPurchase             0\n",
       "OS                                 0\n",
       "SearchEngine                       0\n",
       "Zone                               0\n",
       "Type of Traffic                    0\n",
       "CustomerType                       0\n",
       "Gender                             0\n",
       "Cookies Setting                    0\n",
       "Education                          0\n",
       "Marital Status                     0\n",
       "WeekendPurchase                    0\n",
       "dtype: int64"
      ]
     },
     "execution_count": 37,
     "metadata": {},
     "output_type": "execute_result"
    }
   ],
   "source": [
    "test.isnull().sum()"
   ]
  },
  {
   "cell_type": "markdown",
   "id": "2d6ef9a6",
   "metadata": {
    "papermill": {
     "duration": 0.018929,
     "end_time": "2023-03-27T18:36:29.700904",
     "exception": false,
     "start_time": "2023-03-27T18:36:29.681975",
     "status": "completed"
    },
    "tags": []
   },
   "source": [
    "## Label Encoding the test data set"
   ]
  },
  {
   "cell_type": "code",
   "execution_count": 38,
   "id": "1d1c4b57",
   "metadata": {
    "execution": {
     "iopub.execute_input": "2023-03-27T18:36:29.742573Z",
     "iopub.status.busy": "2023-03-27T18:36:29.742083Z",
     "iopub.status.idle": "2023-03-27T18:36:29.763578Z",
     "shell.execute_reply": "2023-03-27T18:36:29.762315Z"
    },
    "papermill": {
     "duration": 0.045742,
     "end_time": "2023-03-27T18:36:29.766175",
     "exception": false,
     "start_time": "2023-03-27T18:36:29.720433",
     "status": "completed"
    },
    "tags": []
   },
   "outputs": [],
   "source": [
    "le = LabelEncoder()\n",
    "test['Month_SeasonalPurchase'] = le.fit_transform(test['Month_SeasonalPurchase'])\n",
    "test['Gender'] = le.fit_transform(test['Gender'])\n",
    "test['Cookies Setting'] = le.fit_transform(test['Cookies Setting'])\n",
    "test['Education'] = le.fit_transform(test['Education'])\n",
    "test['Marital Status'] = le.fit_transform(test['Marital Status'])\n",
    "test['CustomerType'] = le.fit_transform(test['CustomerType'])"
   ]
  },
  {
   "cell_type": "markdown",
   "id": "bd905d64",
   "metadata": {
    "papermill": {
     "duration": 0.018807,
     "end_time": "2023-03-27T18:36:29.805954",
     "exception": false,
     "start_time": "2023-03-27T18:36:29.787147",
     "status": "completed"
    },
    "tags": []
   },
   "source": [
    "## Scaling the test data set"
   ]
  },
  {
   "cell_type": "code",
   "execution_count": 39,
   "id": "9138a868",
   "metadata": {
    "execution": {
     "iopub.execute_input": "2023-03-27T18:36:29.847048Z",
     "iopub.status.busy": "2023-03-27T18:36:29.845814Z",
     "iopub.status.idle": "2023-03-27T18:36:29.870769Z",
     "shell.execute_reply": "2023-03-27T18:36:29.869791Z"
    },
    "papermill": {
     "duration": 0.048359,
     "end_time": "2023-03-27T18:36:29.873515",
     "exception": false,
     "start_time": "2023-03-27T18:36:29.825156",
     "status": "completed"
    },
    "tags": []
   },
   "outputs": [],
   "source": [
    "from sklearn.preprocessing import StandardScaler\n",
    "scaler = StandardScaler()\n",
    "\n",
    "test['HomePage'] = scaler.fit_transform(test['HomePage'].values.reshape(-1,1))[:,0]\n",
    "test['HomePage_Duration'] = scaler.fit_transform(test['HomePage_Duration'].values.reshape(-1,1))[:,0]\n",
    "test['LandingPage'] = scaler.fit_transform(test['LandingPage'].values.reshape(-1,1))[:,0]\n",
    "test['LandingPage_Duration'] = scaler.fit_transform(test['LandingPage_Duration'].values.reshape(-1,1))[:,0]\n",
    "test['ProductDescriptionPage'] = scaler.fit_transform(test['ProductDescriptionPage'].values.reshape(-1,1))[:,0]\n",
    "test['ProductDescriptionPage_Duration'] = scaler.fit_transform(test['ProductDescriptionPage_Duration'].values.reshape(-1,1))[:,0]\n",
    "test['GoogleMetric:Bounce Rates'] = scaler.fit_transform(test['GoogleMetric:Bounce Rates'].values.reshape(-1,1))[:,0]\n",
    "test['GoogleMetric:Exit Rates'] = scaler.fit_transform(test['GoogleMetric:Exit Rates'].values.reshape(-1,1))[:,0]\n",
    "test['GoogleMetric:Page Values'] = scaler.fit_transform(test['GoogleMetric:Page Values'].values.reshape(-1,1))[:,0]\n",
    "test['SeasonalPurchase'] = scaler.fit_transform(test['SeasonalPurchase'].values.reshape(-1,1))[:,0]\n",
    "test['OS'] = scaler.fit_transform(test['OS'].values.reshape(-1,1))[:,0]\n",
    "test['SearchEngine'] = scaler.fit_transform(test['SearchEngine'].values.reshape(-1,1))[:,0]\n",
    "test['Zone'] = scaler.fit_transform(test['Zone'].values.reshape(-1,1))[:,0]\n",
    "test['Type of Traffic'] = scaler.fit_transform(test['Type of Traffic'].values.reshape(-1,1))[:,0]\n",
    "test['WeekendPurchase'] = scaler.fit_transform(test['WeekendPurchase'].values.reshape(-1,1))[:,0]\n"
   ]
  },
  {
   "cell_type": "code",
   "execution_count": 40,
   "id": "5870d6b8",
   "metadata": {
    "execution": {
     "iopub.execute_input": "2023-03-27T18:36:29.915046Z",
     "iopub.status.busy": "2023-03-27T18:36:29.913846Z",
     "iopub.status.idle": "2023-03-27T18:36:29.928990Z",
     "shell.execute_reply": "2023-03-27T18:36:29.927762Z"
    },
    "papermill": {
     "duration": 0.038994,
     "end_time": "2023-03-27T18:36:29.931967",
     "exception": false,
     "start_time": "2023-03-27T18:36:29.892973",
     "status": "completed"
    },
    "tags": []
   },
   "outputs": [],
   "source": [
    "test['Month_SeasonalPurchase'] = scaler.fit_transform(test['Month_SeasonalPurchase'].values.reshape(-1,1))[:,0]\n",
    "test['CustomerType'] = scaler.fit_transform(test['CustomerType'].values.reshape(-1,1))[:,0]\n",
    "test['Gender'] = scaler.fit_transform(test['Gender'].values.reshape(-1,1))[:,0]\n",
    "test['Cookies Setting'] = scaler.fit_transform(test['Cookies Setting'].values.reshape(-1,1))[:,0]\n",
    "test['Education'] = scaler.fit_transform(test['Education'].values.reshape(-1,1))[:,0]\n",
    "test['Marital Status'] = scaler.fit_transform(test['Marital Status'].values.reshape(-1,1))[:,0]"
   ]
  },
  {
   "cell_type": "markdown",
   "id": "13ea431e",
   "metadata": {
    "papermill": {
     "duration": 0.01895,
     "end_time": "2023-03-27T18:36:29.970361",
     "exception": false,
     "start_time": "2023-03-27T18:36:29.951411",
     "status": "completed"
    },
    "tags": []
   },
   "source": [
    "## Droping the Features from Test Data Set"
   ]
  },
  {
   "cell_type": "code",
   "execution_count": 41,
   "id": "f5b948d2",
   "metadata": {
    "execution": {
     "iopub.execute_input": "2023-03-27T18:36:30.011204Z",
     "iopub.status.busy": "2023-03-27T18:36:30.010700Z",
     "iopub.status.idle": "2023-03-27T18:36:30.019562Z",
     "shell.execute_reply": "2023-03-27T18:36:30.018148Z"
    },
    "papermill": {
     "duration": 0.032668,
     "end_time": "2023-03-27T18:36:30.022368",
     "exception": false,
     "start_time": "2023-03-27T18:36:29.989700",
     "status": "completed"
    },
    "tags": []
   },
   "outputs": [],
   "source": [
    "test = test.drop(L,axis = 1)"
   ]
  },
  {
   "cell_type": "code",
   "execution_count": 42,
   "id": "2685fe21",
   "metadata": {
    "execution": {
     "iopub.execute_input": "2023-03-27T18:36:30.063418Z",
     "iopub.status.busy": "2023-03-27T18:36:30.062942Z",
     "iopub.status.idle": "2023-03-27T18:36:30.070596Z",
     "shell.execute_reply": "2023-03-27T18:36:30.069386Z"
    },
    "papermill": {
     "duration": 0.031459,
     "end_time": "2023-03-27T18:36:30.073409",
     "exception": false,
     "start_time": "2023-03-27T18:36:30.041950",
     "status": "completed"
    },
    "tags": []
   },
   "outputs": [
    {
     "data": {
      "text/plain": [
       "(6599, 11)"
      ]
     },
     "execution_count": 42,
     "metadata": {},
     "output_type": "execute_result"
    }
   ],
   "source": [
    "test.shape"
   ]
  },
  {
   "cell_type": "markdown",
   "id": "a3e83089",
   "metadata": {
    "papermill": {
     "duration": 0.019203,
     "end_time": "2023-03-27T18:36:30.112415",
     "exception": false,
     "start_time": "2023-03-27T18:36:30.093212",
     "status": "completed"
    },
    "tags": []
   },
   "source": [
    "# Making the Final Prediction"
   ]
  },
  {
   "cell_type": "code",
   "execution_count": 43,
   "id": "df7914e7",
   "metadata": {
    "execution": {
     "iopub.execute_input": "2023-03-27T18:36:30.153306Z",
     "iopub.status.busy": "2023-03-27T18:36:30.152854Z",
     "iopub.status.idle": "2023-03-27T18:36:32.763939Z",
     "shell.execute_reply": "2023-03-27T18:36:32.761581Z"
    },
    "papermill": {
     "duration": 2.634863,
     "end_time": "2023-03-27T18:36:32.766795",
     "exception": false,
     "start_time": "2023-03-27T18:36:30.131932",
     "status": "completed"
    },
    "tags": []
   },
   "outputs": [
    {
     "name": "stdout",
     "output_type": "stream",
     "text": [
      "-- Epoch 1\n",
      "Norm: 1638.56, NNZs: 6, Bias: 20.000000, T: 18130, Avg. loss: 19.863513\n",
      "Total training time: 0.00 seconds.\n",
      "-- Epoch 2\n",
      "Norm: 2868.12, NNZs: 5, Bias: 10.000000, T: 36260, Avg. loss: 12.047756\n",
      "Total training time: 0.01 seconds.\n",
      "-- Epoch 3\n",
      "Norm: 3838.86, NNZs: 2, Bias: 0.000000, T: 54390, Avg. loss: 9.106429\n",
      "Total training time: 0.01 seconds.\n",
      "-- Epoch 4\n",
      "Norm: 4701.48, NNZs: 4, Bias: 20.000000, T: 72520, Avg. loss: 7.305218\n",
      "Total training time: 0.01 seconds.\n",
      "-- Epoch 5\n",
      "Norm: 5452.09, NNZs: 1, Bias: 0.000000, T: 90650, Avg. loss: 6.599299\n",
      "Total training time: 0.02 seconds.\n",
      "-- Epoch 6\n",
      "Norm: 6119.80, NNZs: 3, Bias: 0.000000, T: 108780, Avg. loss: 6.126892\n",
      "Total training time: 0.02 seconds.\n",
      "-- Epoch 7\n",
      "Norm: 6752.12, NNZs: 2, Bias: 10.000000, T: 126910, Avg. loss: 5.548178\n",
      "Total training time: 0.02 seconds.\n",
      "-- Epoch 8\n",
      "Norm: 7321.27, NNZs: 3, Bias: -10.000000, T: 145040, Avg. loss: 5.691353\n",
      "Total training time: 0.03 seconds.\n",
      "-- Epoch 9\n",
      "Norm: 7873.33, NNZs: 0, Bias: 10.000000, T: 163170, Avg. loss: 5.015967\n",
      "Total training time: 0.03 seconds.\n",
      "-- Epoch 10\n",
      "Norm: 8379.45, NNZs: 1, Bias: 10.000000, T: 181300, Avg. loss: 5.256946\n",
      "Total training time: 0.03 seconds.\n",
      "-- Epoch 11\n",
      "Norm: 8870.99, NNZs: 1, Bias: 10.000000, T: 199430, Avg. loss: 5.118473\n",
      "Total training time: 0.04 seconds.\n",
      "-- Epoch 12\n",
      "Norm: 9339.74, NNZs: 1, Bias: 0.000000, T: 217560, Avg. loss: 4.624993\n",
      "Total training time: 0.04 seconds.\n",
      "-- Epoch 13\n",
      "Norm: 9771.23, NNZs: 2, Bias: -10.000000, T: 235690, Avg. loss: 4.706462\n",
      "Total training time: 0.04 seconds.\n",
      "-- Epoch 14\n",
      "Norm: 10192.12, NNZs: 2, Bias: 0.000000, T: 253820, Avg. loss: 5.130093\n",
      "Total training time: 0.04 seconds.\n",
      "-- Epoch 15\n",
      "Norm: 10605.39, NNZs: 1, Bias: 10.000000, T: 271950, Avg. loss: 4.602052\n",
      "Total training time: 0.05 seconds.\n",
      "-- Epoch 16\n",
      "Norm: 11003.28, NNZs: 1, Bias: 0.000000, T: 290080, Avg. loss: 4.443264\n",
      "Total training time: 0.05 seconds.\n",
      "-- Epoch 17\n",
      "Norm: 11387.78, NNZs: 0, Bias: -10.000000, T: 308210, Avg. loss: 4.525812\n",
      "Total training time: 0.05 seconds.\n",
      "-- Epoch 18\n",
      "Norm: 11766.78, NNZs: 0, Bias: 10.000000, T: 326340, Avg. loss: 4.470636\n",
      "Total training time: 0.06 seconds.\n",
      "-- Epoch 19\n",
      "Norm: 12128.72, NNZs: 1, Bias: 0.000000, T: 344470, Avg. loss: 4.867597\n",
      "Total training time: 0.06 seconds.\n",
      "-- Epoch 20\n",
      "Norm: 12473.25, NNZs: 2, Bias: 20.000000, T: 362600, Avg. loss: 4.387250\n",
      "Total training time: 0.06 seconds.\n",
      "-- Epoch 21\n",
      "Norm: 12817.33, NNZs: 1, Bias: 10.000000, T: 380730, Avg. loss: 4.454607\n",
      "Total training time: 0.07 seconds.\n",
      "-- Epoch 22\n",
      "Norm: 13156.27, NNZs: 1, Bias: -10.000000, T: 398860, Avg. loss: 4.215995\n",
      "Total training time: 0.07 seconds.\n",
      "-- Epoch 23\n",
      "Norm: 13475.23, NNZs: 1, Bias: 10.000000, T: 416990, Avg. loss: 4.977391\n",
      "Total training time: 0.07 seconds.\n",
      "-- Epoch 24\n",
      "Norm: 13796.18, NNZs: 1, Bias: 0.000000, T: 435120, Avg. loss: 4.406569\n",
      "Total training time: 0.07 seconds.\n",
      "-- Epoch 25\n",
      "Norm: 14102.28, NNZs: 1, Bias: 0.000000, T: 453250, Avg. loss: 4.930509\n",
      "Total training time: 0.08 seconds.\n",
      "-- Epoch 26\n",
      "Norm: 14402.60, NNZs: 1, Bias: 10.000000, T: 471380, Avg. loss: 4.476328\n",
      "Total training time: 0.08 seconds.\n",
      "-- Epoch 27\n",
      "Norm: 14698.24, NNZs: 1, Bias: 0.000000, T: 489510, Avg. loss: 4.357967\n",
      "Total training time: 0.08 seconds.\n",
      "Convergence after 27 epochs took 0.08 seconds\n",
      "      Iter       Train Loss   Remaining Time \n",
      "         1           1.3684            2.24s\n",
      "         2           1.3537            2.23s\n",
      "         3           1.3414            2.24s\n",
      "         4           1.3314            2.21s\n",
      "         5           1.3225            2.19s\n",
      "         6           1.3155            2.18s\n",
      "         7           1.3091            2.16s\n",
      "         8           1.3036            2.13s\n",
      "         9           1.2990            2.10s\n",
      "        10           1.2948            2.07s\n",
      "        20           1.2734            1.85s\n",
      "        30           1.2579            1.61s\n",
      "        40           1.2437            1.39s\n",
      "        50           1.2297            1.17s\n",
      "        60           1.2188            0.95s\n",
      "        70           1.2081            0.72s\n",
      "        80           1.2001            0.48s\n",
      "        90           1.1957            0.24s\n",
      "       100           1.1880            0.00s\n"
     ]
    }
   ],
   "source": [
    "from sklearn.linear_model import Perceptron\n",
    "from sklearn.ensemble import VotingClassifier\n",
    "from sklearn.ensemble import GradientBoostingClassifier\n",
    "\n",
    "\n",
    "\n",
    "per = Perceptron(max_iter = 2000, penalty = 'l1', alpha = 0.00012, fit_intercept = True, shuffle = True, verbose =2, eta0 = 10)\n",
    "gbc = GradientBoostingClassifier(ccp_alpha=0.0, criterion='friedman_mse', init=None,\n",
    "                           learning_rate=0.1, max_depth=3, verbose = 1)\n",
    "\n",
    "vc = VotingClassifier(estimators = [('per',per),('gbc',gbc)],voting = 'hard')\n",
    "\n",
    "vc.fit(x_smt,y_smt)\n",
    "y_final = vc.predict(test)"
   ]
  },
  {
   "cell_type": "code",
   "execution_count": 44,
   "id": "01646f8b",
   "metadata": {
    "execution": {
     "iopub.execute_input": "2023-03-27T18:36:32.810024Z",
     "iopub.status.busy": "2023-03-27T18:36:32.808524Z",
     "iopub.status.idle": "2023-03-27T18:36:32.816875Z",
     "shell.execute_reply": "2023-03-27T18:36:32.815880Z"
    },
    "papermill": {
     "duration": 0.032395,
     "end_time": "2023-03-27T18:36:32.819327",
     "exception": false,
     "start_time": "2023-03-27T18:36:32.786932",
     "status": "completed"
    },
    "tags": []
   },
   "outputs": [
    {
     "data": {
      "text/plain": [
       "array([False, False, False, ..., False, False, False])"
      ]
     },
     "execution_count": 44,
     "metadata": {},
     "output_type": "execute_result"
    }
   ],
   "source": [
    "y_final\n"
   ]
  },
  {
   "cell_type": "markdown",
   "id": "f52f23f2",
   "metadata": {
    "papermill": {
     "duration": 0.02022,
     "end_time": "2023-03-27T18:36:32.859960",
     "exception": false,
     "start_time": "2023-03-27T18:36:32.839740",
     "status": "completed"
    },
    "tags": []
   },
   "source": [
    "# Final submission"
   ]
  },
  {
   "cell_type": "code",
   "execution_count": 45,
   "id": "2115466c",
   "metadata": {
    "execution": {
     "iopub.execute_input": "2023-03-27T18:36:32.902966Z",
     "iopub.status.busy": "2023-03-27T18:36:32.902134Z",
     "iopub.status.idle": "2023-03-27T18:36:32.917297Z",
     "shell.execute_reply": "2023-03-27T18:36:32.916260Z"
    },
    "papermill": {
     "duration": 0.039524,
     "end_time": "2023-03-27T18:36:32.919972",
     "exception": false,
     "start_time": "2023-03-27T18:36:32.880448",
     "status": "completed"
    },
    "tags": []
   },
   "outputs": [],
   "source": [
    "submission = pd.DataFrame(columns = ['id','Made_Purchase'])\n",
    "submission['id'] = [i for i in range(len(y_final))]\n",
    "submission['Made_Purchase'] = y_final\n"
   ]
  },
  {
   "cell_type": "code",
   "execution_count": 46,
   "id": "1192950d",
   "metadata": {
    "execution": {
     "iopub.execute_input": "2023-03-27T18:36:32.963480Z",
     "iopub.status.busy": "2023-03-27T18:36:32.962501Z",
     "iopub.status.idle": "2023-03-27T18:36:32.973015Z",
     "shell.execute_reply": "2023-03-27T18:36:32.971790Z"
    },
    "papermill": {
     "duration": 0.035177,
     "end_time": "2023-03-27T18:36:32.975651",
     "exception": false,
     "start_time": "2023-03-27T18:36:32.940474",
     "status": "completed"
    },
    "tags": []
   },
   "outputs": [
    {
     "data": {
      "text/plain": [
       "False    5587\n",
       "True     1012\n",
       "Name: Made_Purchase, dtype: int64"
      ]
     },
     "execution_count": 46,
     "metadata": {},
     "output_type": "execute_result"
    }
   ],
   "source": [
    "submission['Made_Purchase'].value_counts()"
   ]
  },
  {
   "cell_type": "code",
   "execution_count": 47,
   "id": "9cc5e6de",
   "metadata": {
    "execution": {
     "iopub.execute_input": "2023-03-27T18:36:33.020959Z",
     "iopub.status.busy": "2023-03-27T18:36:33.020213Z",
     "iopub.status.idle": "2023-03-27T18:36:33.039044Z",
     "shell.execute_reply": "2023-03-27T18:36:33.037437Z"
    },
    "papermill": {
     "duration": 0.045711,
     "end_time": "2023-03-27T18:36:33.042216",
     "exception": false,
     "start_time": "2023-03-27T18:36:32.996505",
     "status": "completed"
    },
    "tags": []
   },
   "outputs": [],
   "source": [
    "submission.to_csv('submission.csv',index = False)"
   ]
  },
  {
   "cell_type": "code",
   "execution_count": null,
   "id": "1079c279",
   "metadata": {
    "papermill": {
     "duration": 0.020217,
     "end_time": "2023-03-27T18:36:33.084432",
     "exception": false,
     "start_time": "2023-03-27T18:36:33.064215",
     "status": "completed"
    },
    "tags": []
   },
   "outputs": [],
   "source": []
  },
  {
   "cell_type": "code",
   "execution_count": null,
   "id": "cd54acd8",
   "metadata": {
    "papermill": {
     "duration": 0.020169,
     "end_time": "2023-03-27T18:36:33.125231",
     "exception": false,
     "start_time": "2023-03-27T18:36:33.105062",
     "status": "completed"
    },
    "tags": []
   },
   "outputs": [],
   "source": []
  },
  {
   "cell_type": "code",
   "execution_count": null,
   "id": "d098d3e6",
   "metadata": {
    "papermill": {
     "duration": 0.021785,
     "end_time": "2023-03-27T18:36:33.167496",
     "exception": false,
     "start_time": "2023-03-27T18:36:33.145711",
     "status": "completed"
    },
    "tags": []
   },
   "outputs": [],
   "source": []
  },
  {
   "cell_type": "code",
   "execution_count": null,
   "id": "ca3083b4",
   "metadata": {
    "papermill": {
     "duration": 0.019991,
     "end_time": "2023-03-27T18:36:33.207877",
     "exception": false,
     "start_time": "2023-03-27T18:36:33.187886",
     "status": "completed"
    },
    "tags": []
   },
   "outputs": [],
   "source": []
  },
  {
   "cell_type": "code",
   "execution_count": null,
   "id": "1926521f",
   "metadata": {
    "papermill": {
     "duration": 0.020182,
     "end_time": "2023-03-27T18:36:33.249571",
     "exception": false,
     "start_time": "2023-03-27T18:36:33.229389",
     "status": "completed"
    },
    "tags": []
   },
   "outputs": [],
   "source": []
  },
  {
   "cell_type": "code",
   "execution_count": null,
   "id": "60786806",
   "metadata": {
    "papermill": {
     "duration": 0.02032,
     "end_time": "2023-03-27T18:36:33.290410",
     "exception": false,
     "start_time": "2023-03-27T18:36:33.270090",
     "status": "completed"
    },
    "tags": []
   },
   "outputs": [],
   "source": []
  },
  {
   "cell_type": "code",
   "execution_count": null,
   "id": "16712f68",
   "metadata": {
    "papermill": {
     "duration": 0.020243,
     "end_time": "2023-03-27T18:36:33.331205",
     "exception": false,
     "start_time": "2023-03-27T18:36:33.310962",
     "status": "completed"
    },
    "tags": []
   },
   "outputs": [],
   "source": []
  },
  {
   "cell_type": "code",
   "execution_count": null,
   "id": "b04d8343",
   "metadata": {
    "papermill": {
     "duration": 0.02011,
     "end_time": "2023-03-27T18:36:33.371869",
     "exception": false,
     "start_time": "2023-03-27T18:36:33.351759",
     "status": "completed"
    },
    "tags": []
   },
   "outputs": [],
   "source": []
  },
  {
   "cell_type": "code",
   "execution_count": null,
   "id": "fe1fcd3e",
   "metadata": {
    "papermill": {
     "duration": 0.020329,
     "end_time": "2023-03-27T18:36:33.412701",
     "exception": false,
     "start_time": "2023-03-27T18:36:33.392372",
     "status": "completed"
    },
    "tags": []
   },
   "outputs": [],
   "source": []
  },
  {
   "cell_type": "code",
   "execution_count": null,
   "id": "ae02cef3",
   "metadata": {
    "papermill": {
     "duration": 0.020188,
     "end_time": "2023-03-27T18:36:33.453283",
     "exception": false,
     "start_time": "2023-03-27T18:36:33.433095",
     "status": "completed"
    },
    "tags": []
   },
   "outputs": [],
   "source": []
  },
  {
   "cell_type": "code",
   "execution_count": null,
   "id": "3a47cb42",
   "metadata": {
    "papermill": {
     "duration": 0.020395,
     "end_time": "2023-03-27T18:36:33.494110",
     "exception": false,
     "start_time": "2023-03-27T18:36:33.473715",
     "status": "completed"
    },
    "tags": []
   },
   "outputs": [],
   "source": []
  },
  {
   "cell_type": "code",
   "execution_count": null,
   "id": "1f1746c5",
   "metadata": {
    "papermill": {
     "duration": 0.020857,
     "end_time": "2023-03-27T18:36:33.535467",
     "exception": false,
     "start_time": "2023-03-27T18:36:33.514610",
     "status": "completed"
    },
    "tags": []
   },
   "outputs": [],
   "source": []
  },
  {
   "cell_type": "code",
   "execution_count": null,
   "id": "3edced8d",
   "metadata": {
    "papermill": {
     "duration": 0.021281,
     "end_time": "2023-03-27T18:36:33.577499",
     "exception": false,
     "start_time": "2023-03-27T18:36:33.556218",
     "status": "completed"
    },
    "tags": []
   },
   "outputs": [],
   "source": []
  }
 ],
 "metadata": {
  "kernelspec": {
   "display_name": "Python 3",
   "language": "python",
   "name": "python3"
  },
  "language_info": {
   "codemirror_mode": {
    "name": "ipython",
    "version": 3
   },
   "file_extension": ".py",
   "mimetype": "text/x-python",
   "name": "python",
   "nbconvert_exporter": "python",
   "pygments_lexer": "ipython3",
   "version": "3.7.12"
  },
  "papermill": {
   "default_parameters": {},
   "duration": 120.838861,
   "end_time": "2023-03-27T18:36:34.422566",
   "environment_variables": {},
   "exception": null,
   "input_path": "__notebook__.ipynb",
   "output_path": "__notebook__.ipynb",
   "parameters": {},
   "start_time": "2023-03-27T18:34:33.583705",
   "version": "2.4.0"
  }
 },
 "nbformat": 4,
 "nbformat_minor": 5
}
